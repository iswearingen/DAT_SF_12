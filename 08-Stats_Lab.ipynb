{
 "metadata": {
  "name": "",
<<<<<<< HEAD
  "signature": "sha256:0f58615f95eacba7a09ef0ac7b11f3720f495564f4c36d05f4131bf440db9bca"
=======
  "signature": "sha256:ea44b366ac3da46b592950eac76c3c7d6a27fe56e61ca7614aecfd21488c5a25"
>>>>>>> e502383fca115bd8e342758f65d87c0fd3806e7f
 },
 "nbformat": 3,
 "nbformat_minor": 0,
 "worksheets": [
  {
   "cells": [
    {
     "cell_type": "markdown",
     "metadata": {
      "slideshow": {
       "slide_type": "slide"
      }
     },
     "source": [
      "Lab\n",
      "===================\n",
      "Probability and Statistics\n",
      "-------------------\n",
      "Alessandro D. Gagliardi"
     ]
    },
    {
     "cell_type": "markdown",
     "metadata": {
      "slideshow": {
       "slide_type": "slide"
      }
     },
     "source": [
      "On Groundhog Day, February 2, a famous groundhog in Punxsutawney, PA is used to predict whether a winter will be long or not based on whether or not he sees his shadow. [Jonathan Taylor](http://statweb.stanford.edu/~jtaylo/) collected data on whether he saw his shadow or not from [here](http://www.stormfax.com/ghogday.htm). He stored some of this data in this [table](http://stats191.stanford.edu/data/groundhog.table).\n",
      "\n",
      "Although Phil is on the East Coast,\n",
      "Taylor wondered if the information says anything about whether or not we will experience\n",
      "a rainy winter out here in California. For this, he found rainfall data, and saved it in a \n",
      "[table](http://stats191.stanford.edu/data/rainfall.csv). To see how this was extracted\n",
      "see this [notebook](http://nbviewer.ipython.org/url/www.stanford.edu/class/stats191/notebooks/Rainfall%20data.ipynb).\n",
      "\n",
      "1. Make a boxplot of the average rainfall in Northen California comparing the years Phil sees his shadow versus the years he does not.\n",
      "\n",
      "2. Construct a 90% confidence interval for the difference between the mean rainfall in years Phil sees his shadow and years he does not.\n",
      "\n",
      "3. Interpret the interval in part 2.\n",
      "\n",
      "4. At level, $\\alpha = 0.05$ would you reject the null hypothesis that the average rainfall in Northern California during the month of February was the same in years Phil sees his shadow versus years he does not?\n",
      "\n",
      "5. What assumptions are you making in forming your confidence interval and in your hypothesis test?"
     ]
    },
    {
     "cell_type": "code",
     "collapsed": false,
     "input": [
      "%matplotlib inline\n",
      "import os\n",
      "import matplotlib.pyplot as plt\n",
      "import numpy as np\n",
      "import pandas as pd\n",
      "import statsmodels.api as sm\n",
      "import twitter\n",
      "import yaml\n",
      "from pymongo import MongoClient"
     ],
     "language": "python",
     "metadata": {
      "slideshow": {
       "slide_type": "subslide"
      }
     },
     "outputs": [],
<<<<<<< HEAD
     "prompt_number": 10
=======
     "prompt_number": 1
>>>>>>> e502383fca115bd8e342758f65d87c0fd3806e7f
    },
    {
     "cell_type": "markdown",
     "metadata": {
      "slideshow": {
       "slide_type": "slide"
      }
     },
     "source": [
      "Part 1\n",
      "------"
     ]
    },
    {
     "cell_type": "code",
     "collapsed": false,
     "input": [
      "rainfall = pd.read_csv('http://stats191.stanford.edu/data/rainfall.csv')\n",
      "groundhog = pd.read_csv('http://stats191.stanford.edu/data/groundhog.table')"
     ],
     "language": "python",
     "metadata": {
      "slideshow": {
       "slide_type": "fragment"
      }
     },
     "outputs": [],
<<<<<<< HEAD
=======
     "prompt_number": 2
    },
    {
     "cell_type": "code",
     "collapsed": false,
     "input": [
      "rainfall.head()"
     ],
     "language": "python",
     "metadata": {},
     "outputs": [
      {
       "html": [
        "<div style=\"max-height:1000px;max-width:1500px;overflow:auto;\">\n",
        "<table border=\"1\" class=\"dataframe\">\n",
        "  <thead>\n",
        "    <tr style=\"text-align: right;\">\n",
        "      <th></th>\n",
        "      <th>WY</th>\n",
        "      <th>Oct</th>\n",
        "      <th>Nov</th>\n",
        "      <th>Dec</th>\n",
        "      <th>Jan</th>\n",
        "      <th>Feb</th>\n",
        "      <th>Mar</th>\n",
        "      <th>Apr</th>\n",
        "      <th>May</th>\n",
        "      <th>Jun</th>\n",
        "      <th>Jul</th>\n",
        "      <th>Aug</th>\n",
        "      <th>Sep</th>\n",
        "      <th>Total</th>\n",
        "    </tr>\n",
        "  </thead>\n",
        "  <tbody>\n",
        "    <tr>\n",
        "      <th>0</th>\n",
        "      <td> 1921</td>\n",
        "      <td> 5.25</td>\n",
        "      <td> 12.38</td>\n",
        "      <td> 11.52</td>\n",
        "      <td> 13.12</td>\n",
        "      <td>  3.76</td>\n",
        "      <td> 5.30</td>\n",
        "      <td> 0.94</td>\n",
        "      <td> 3.05</td>\n",
        "      <td> 0.65</td>\n",
        "      <td> 0.00</td>\n",
        "      <td> 0.00</td>\n",
        "      <td> 0.02</td>\n",
        "      <td> 55.99</td>\n",
        "    </tr>\n",
        "    <tr>\n",
        "      <th>1</th>\n",
        "      <td> 1922</td>\n",
        "      <td> 1.39</td>\n",
        "      <td>  3.16</td>\n",
        "      <td> 11.22</td>\n",
        "      <td>  3.21</td>\n",
        "      <td> 14.42</td>\n",
        "      <td> 8.37</td>\n",
        "      <td> 1.58</td>\n",
        "      <td> 2.22</td>\n",
        "      <td> 0.98</td>\n",
        "      <td> 0.14</td>\n",
        "      <td> 0.08</td>\n",
        "      <td> 0.01</td>\n",
        "      <td> 46.78</td>\n",
        "    </tr>\n",
        "    <tr>\n",
        "      <th>2</th>\n",
        "      <td> 1923</td>\n",
        "      <td> 3.59</td>\n",
        "      <td>  6.01</td>\n",
        "      <td> 11.79</td>\n",
        "      <td>  5.95</td>\n",
        "      <td>  1.93</td>\n",
        "      <td> 0.49</td>\n",
        "      <td> 6.86</td>\n",
        "      <td> 0.93</td>\n",
        "      <td> 2.09</td>\n",
        "      <td> 0.20</td>\n",
        "      <td> 0.40</td>\n",
        "      <td> 2.75</td>\n",
        "      <td> 42.99</td>\n",
        "    </tr>\n",
        "    <tr>\n",
        "      <th>3</th>\n",
        "      <td> 1924</td>\n",
        "      <td> 2.15</td>\n",
        "      <td>  0.46</td>\n",
        "      <td>  2.77</td>\n",
        "      <td>  3.55</td>\n",
        "      <td>  3.94</td>\n",
        "      <td> 2.67</td>\n",
        "      <td> 0.89</td>\n",
        "      <td> 0.05</td>\n",
        "      <td> 0.08</td>\n",
        "      <td> 0.00</td>\n",
        "      <td> 0.14</td>\n",
        "      <td> 0.40</td>\n",
        "      <td> 17.10</td>\n",
        "    </tr>\n",
        "    <tr>\n",
        "      <th>4</th>\n",
        "      <td> 1925</td>\n",
        "      <td> 6.63</td>\n",
        "      <td>  4.71</td>\n",
        "      <td>  6.01</td>\n",
        "      <td>  3.47</td>\n",
        "      <td> 15.21</td>\n",
        "      <td> 4.51</td>\n",
        "      <td> 5.46</td>\n",
        "      <td> 2.14</td>\n",
        "      <td> 1.52</td>\n",
        "      <td> 0.11</td>\n",
        "      <td> 0.83</td>\n",
        "      <td> 2.45</td>\n",
        "      <td> 53.05</td>\n",
        "    </tr>\n",
        "  </tbody>\n",
        "</table>\n",
        "</div>"
       ],
       "metadata": {},
       "output_type": "pyout",
       "prompt_number": 14,
       "text": [
        "     WY   Oct    Nov    Dec    Jan    Feb   Mar   Apr   May   Jun   Jul   Aug  \\\n",
        "0  1921  5.25  12.38  11.52  13.12   3.76  5.30  0.94  3.05  0.65  0.00  0.00   \n",
        "1  1922  1.39   3.16  11.22   3.21  14.42  8.37  1.58  2.22  0.98  0.14  0.08   \n",
        "2  1923  3.59   6.01  11.79   5.95   1.93  0.49  6.86  0.93  2.09  0.20  0.40   \n",
        "3  1924  2.15   0.46   2.77   3.55   3.94  2.67  0.89  0.05  0.08  0.00  0.14   \n",
        "4  1925  6.63   4.71   6.01   3.47  15.21  4.51  5.46  2.14  1.52  0.11  0.83   \n",
        "\n",
        "    Sep  Total  \n",
        "0  0.02  55.99  \n",
        "1  0.01  46.78  \n",
        "2  2.75  42.99  \n",
        "3  0.40  17.10  \n",
        "4  2.45  53.05  "
       ]
      }
     ],
     "prompt_number": 14
    },
    {
     "cell_type": "code",
     "collapsed": false,
     "input": [
      "groundhog.head()"
     ],
     "language": "python",
     "metadata": {},
     "outputs": [
      {
       "html": [
        "<div style=\"max-height:1000px;max-width:1500px;overflow:auto;\">\n",
        "<table border=\"1\" class=\"dataframe\">\n",
        "  <thead>\n",
        "    <tr style=\"text-align: right;\">\n",
        "      <th></th>\n",
        "      <th>year</th>\n",
        "      <th>mintemp</th>\n",
        "      <th>shadow</th>\n",
        "    </tr>\n",
        "  </thead>\n",
        "  <tbody>\n",
        "    <tr>\n",
        "      <th>0</th>\n",
        "      <td> 1990</td>\n",
        "      <td> 24</td>\n",
        "      <td> N</td>\n",
        "    </tr>\n",
        "    <tr>\n",
        "      <th>1</th>\n",
        "      <td> 1991</td>\n",
        "      <td> 23</td>\n",
        "      <td> Y</td>\n",
        "    </tr>\n",
        "    <tr>\n",
        "      <th>2</th>\n",
        "      <td> 1992</td>\n",
        "      <td> 22</td>\n",
        "      <td> Y</td>\n",
        "    </tr>\n",
        "    <tr>\n",
        "      <th>3</th>\n",
        "      <td> 1993</td>\n",
        "      <td> 16</td>\n",
        "      <td> Y</td>\n",
        "    </tr>\n",
        "    <tr>\n",
        "      <th>4</th>\n",
        "      <td> 1994</td>\n",
        "      <td> 12</td>\n",
        "      <td> Y</td>\n",
        "    </tr>\n",
        "  </tbody>\n",
        "</table>\n",
        "</div>"
       ],
       "metadata": {},
       "output_type": "pyout",
       "prompt_number": 11,
       "text": [
        "   year  mintemp shadow\n",
        "0  1990       24      N\n",
        "1  1991       23      Y\n",
        "2  1992       22      Y\n",
        "3  1993       16      Y\n",
        "4  1994       12      Y"
       ]
      }
     ],
>>>>>>> e502383fca115bd8e342758f65d87c0fd3806e7f
     "prompt_number": 11
    },
    {
     "cell_type": "code",
     "collapsed": false,
     "input": [
<<<<<<< HEAD
=======
      "rainfall.merge(groundhog, left_on='WY', right_on='year').head()"
     ],
     "language": "python",
     "metadata": {},
     "outputs": [
      {
       "html": [
        "<div style=\"max-height:1000px;max-width:1500px;overflow:auto;\">\n",
        "<table border=\"1\" class=\"dataframe\">\n",
        "  <thead>\n",
        "    <tr style=\"text-align: right;\">\n",
        "      <th></th>\n",
        "      <th>WY</th>\n",
        "      <th>Oct</th>\n",
        "      <th>Nov</th>\n",
        "      <th>Dec</th>\n",
        "      <th>Jan</th>\n",
        "      <th>Feb</th>\n",
        "      <th>Mar</th>\n",
        "      <th>Apr</th>\n",
        "      <th>May</th>\n",
        "      <th>Jun</th>\n",
        "      <th>Jul</th>\n",
        "      <th>Aug</th>\n",
        "      <th>Sep</th>\n",
        "      <th>Total</th>\n",
        "      <th>year</th>\n",
        "      <th>mintemp</th>\n",
        "      <th>shadow</th>\n",
        "    </tr>\n",
        "  </thead>\n",
        "  <tbody>\n",
        "    <tr>\n",
        "      <th>0</th>\n",
        "      <td> 1990</td>\n",
        "      <td> 6.29</td>\n",
        "      <td> 3.08</td>\n",
        "      <td>  0.07</td>\n",
        "      <td>  7.88</td>\n",
        "      <td>  4.60</td>\n",
        "      <td>  3.19</td>\n",
        "      <td> 1.83</td>\n",
        "      <td> 7.55</td>\n",
        "      <td> 0.29</td>\n",
        "      <td> 0.12</td>\n",
        "      <td> 0.54</td>\n",
        "      <td> 0.53</td>\n",
        "      <td> 35.97</td>\n",
        "      <td> 1990</td>\n",
        "      <td> 24</td>\n",
        "      <td> N</td>\n",
        "    </tr>\n",
        "    <tr>\n",
        "      <th>1</th>\n",
        "      <td> 1991</td>\n",
        "      <td> 1.10</td>\n",
        "      <td> 1.56</td>\n",
        "      <td>  1.39</td>\n",
        "      <td>  0.88</td>\n",
        "      <td>  3.11</td>\n",
        "      <td> 17.94</td>\n",
        "      <td> 1.81</td>\n",
        "      <td> 2.51</td>\n",
        "      <td> 1.20</td>\n",
        "      <td> 0.40</td>\n",
        "      <td> 0.22</td>\n",
        "      <td> 0.05</td>\n",
        "      <td> 32.17</td>\n",
        "      <td> 1991</td>\n",
        "      <td> 23</td>\n",
        "      <td> Y</td>\n",
        "    </tr>\n",
        "    <tr>\n",
        "      <th>2</th>\n",
        "      <td> 1992</td>\n",
        "      <td> 3.44</td>\n",
        "      <td> 2.64</td>\n",
        "      <td>  3.97</td>\n",
        "      <td>  2.81</td>\n",
        "      <td> 11.84</td>\n",
        "      <td>  5.35</td>\n",
        "      <td> 2.67</td>\n",
        "      <td> 0.12</td>\n",
        "      <td> 2.73</td>\n",
        "      <td> 0.20</td>\n",
        "      <td> 0.16</td>\n",
        "      <td> 0.08</td>\n",
        "      <td> 36.01</td>\n",
        "      <td> 1992</td>\n",
        "      <td> 22</td>\n",
        "      <td> Y</td>\n",
        "    </tr>\n",
        "    <tr>\n",
        "      <th>3</th>\n",
        "      <td> 1993</td>\n",
        "      <td> 4.77</td>\n",
        "      <td> 1.15</td>\n",
        "      <td> 14.41</td>\n",
        "      <td> 16.53</td>\n",
        "      <td> 10.26</td>\n",
        "      <td>  7.57</td>\n",
        "      <td> 3.66</td>\n",
        "      <td> 4.27</td>\n",
        "      <td> 2.31</td>\n",
        "      <td> 0.00</td>\n",
        "      <td> 0.38</td>\n",
        "      <td> 0.01</td>\n",
        "      <td> 65.32</td>\n",
        "      <td> 1993</td>\n",
        "      <td> 16</td>\n",
        "      <td> Y</td>\n",
        "    </tr>\n",
        "    <tr>\n",
        "      <th>4</th>\n",
        "      <td> 1994</td>\n",
        "      <td> 2.65</td>\n",
        "      <td> 2.81</td>\n",
        "      <td>  7.34</td>\n",
        "      <td>  4.10</td>\n",
        "      <td>  7.62</td>\n",
        "      <td>  1.53</td>\n",
        "      <td> 2.87</td>\n",
        "      <td> 1.96</td>\n",
        "      <td> 0.32</td>\n",
        "      <td> 0.01</td>\n",
        "      <td> 0.00</td>\n",
        "      <td> 0.62</td>\n",
        "      <td> 31.83</td>\n",
        "      <td> 1994</td>\n",
        "      <td> 12</td>\n",
        "      <td> Y</td>\n",
        "    </tr>\n",
        "  </tbody>\n",
        "</table>\n",
        "</div>"
       ],
       "metadata": {},
       "output_type": "pyout",
       "prompt_number": 12,
       "text": [
        "     WY   Oct   Nov    Dec    Jan    Feb    Mar   Apr   May   Jun   Jul   Aug  \\\n",
        "0  1990  6.29  3.08   0.07   7.88   4.60   3.19  1.83  7.55  0.29  0.12  0.54   \n",
        "1  1991  1.10  1.56   1.39   0.88   3.11  17.94  1.81  2.51  1.20  0.40  0.22   \n",
        "2  1992  3.44  2.64   3.97   2.81  11.84   5.35  2.67  0.12  2.73  0.20  0.16   \n",
        "3  1993  4.77  1.15  14.41  16.53  10.26   7.57  3.66  4.27  2.31  0.00  0.38   \n",
        "4  1994  2.65  2.81   7.34   4.10   7.62   1.53  2.87  1.96  0.32  0.01  0.00   \n",
        "\n",
        "    Sep  Total  year  mintemp shadow  \n",
        "0  0.53  35.97  1990       24      N  \n",
        "1  0.05  32.17  1991       23      Y  \n",
        "2  0.08  36.01  1992       22      Y  \n",
        "3  0.01  65.32  1993       16      Y  \n",
        "4  0.62  31.83  1994       12      Y  "
       ]
      }
     ],
     "prompt_number": 12
    },
    {
     "cell_type": "code",
     "collapsed": false,
     "input": [
>>>>>>> e502383fca115bd8e342758f65d87c0fd3806e7f
      "df = rainfall.merge(groundhog, left_on='WY', right_on='year')[['Total', 'shadow']]"
     ],
     "language": "python",
     "metadata": {},
     "outputs": [],
<<<<<<< HEAD
     "prompt_number": 12
=======
     "prompt_number": 3
    },
    {
     "cell_type": "code",
     "collapsed": false,
     "input": [
      "df.tail()"
     ],
     "language": "python",
     "metadata": {},
     "outputs": [
      {
       "html": [
        "<div style=\"max-height:1000px;max-width:1500px;overflow:auto;\">\n",
        "<table border=\"1\" class=\"dataframe\">\n",
        "  <thead>\n",
        "    <tr style=\"text-align: right;\">\n",
        "      <th></th>\n",
        "      <th>Total</th>\n",
        "      <th>shadow</th>\n",
        "    </tr>\n",
        "  </thead>\n",
        "  <tbody>\n",
        "    <tr>\n",
        "      <th>16</th>\n",
        "      <td> 80.15</td>\n",
        "      <td> Y</td>\n",
        "    </tr>\n",
        "    <tr>\n",
        "      <th>17</th>\n",
        "      <td> 37.21</td>\n",
        "      <td> N</td>\n",
        "    </tr>\n",
        "    <tr>\n",
        "      <th>18</th>\n",
        "      <td> 34.99</td>\n",
        "      <td> Y</td>\n",
        "    </tr>\n",
        "    <tr>\n",
        "      <th>19</th>\n",
        "      <td> 46.85</td>\n",
        "      <td> Y</td>\n",
        "    </tr>\n",
        "    <tr>\n",
        "      <th>20</th>\n",
        "      <td> 53.59</td>\n",
        "      <td> Y</td>\n",
        "    </tr>\n",
        "  </tbody>\n",
        "</table>\n",
        "</div>"
       ],
       "metadata": {},
       "output_type": "pyout",
       "prompt_number": 5,
       "text": [
        "    Total shadow\n",
        "16  80.15      Y\n",
        "17  37.21      N\n",
        "18  34.99      Y\n",
        "19  46.85      Y\n",
        "20  53.59      Y"
       ]
      }
     ],
     "prompt_number": 5
>>>>>>> e502383fca115bd8e342758f65d87c0fd3806e7f
    },
    {
     "cell_type": "code",
     "collapsed": false,
     "input": [
      "df.boxplot(column='Total', by='shadow')"
     ],
     "language": "python",
     "metadata": {},
     "outputs": [
      {
       "metadata": {},
       "output_type": "pyout",
<<<<<<< HEAD
       "prompt_number": 13,
       "text": [
        "<matplotlib.axes._subplots.AxesSubplot at 0x17ddf2b0>"
=======
       "prompt_number": 6,
       "text": [
        "<matplotlib.axes._subplots.AxesSubplot at 0x109d9f310>"
>>>>>>> e502383fca115bd8e342758f65d87c0fd3806e7f
       ]
      },
      {
       "metadata": {},
       "output_type": "display_data",
<<<<<<< HEAD
       "png": "iVBORw0KGgoAAAANSUhEUgAAAXkAAAEcCAYAAAAiOsTUAAAABHNCSVQICAgIfAhkiAAAAAlwSFlz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\nzrDETvoQAAAAAElFTkSuQmCC\n",
       "text": [
        "<matplotlib.figure.Figure at 0x17ddf128>"
       ]
      }
     ],
     "prompt_number": 13
=======
       "png": "iVBORw0KGgoAAAANSUhEUgAAAXcAAAEaCAYAAADqqhd6AAAABHNCSVQICAgIfAhkiAAAAAlwSFlz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\n",
       "text": [
        "<matplotlib.figure.Figure at 0x109d31d90>"
       ]
      }
     ],
     "prompt_number": 6
>>>>>>> e502383fca115bd8e342758f65d87c0fd3806e7f
    },
    {
     "cell_type": "markdown",
     "metadata": {
      "slideshow": {
       "slide_type": "slide"
      }
     },
     "source": [
      "Part 2\n",
      "------"
     ]
    },
    {
     "cell_type": "code",
     "collapsed": false,
     "input": [
      "mod = sm.OLS.from_formula(\"Total ~ shadow == 'Y'\", df)\n",
      "res = mod.fit()\n",
      "print res.summary(alpha = .1)"
     ],
     "language": "python",
     "metadata": {
      "slideshow": {
       "slide_type": "fragment"
      }
     },
     "outputs": [
      {
<<<<<<< HEAD
       "ename": "NameError",
       "evalue": "name 'Total' is not defined",
       "output_type": "pyerr",
       "traceback": [
        "\u001b[1;31m---------------------------------------------------------------------------\u001b[0m\n\u001b[1;31mNameError\u001b[0m                                 Traceback (most recent call last)",
        "\u001b[1;32m<ipython-input-46-ec80eab9e0ad>\u001b[0m in \u001b[0;36m<module>\u001b[1;34m()\u001b[0m\n\u001b[1;32m----> 1\u001b[1;33m \u001b[0mmod\u001b[0m \u001b[1;33m=\u001b[0m \u001b[0msm\u001b[0m\u001b[1;33m.\u001b[0m\u001b[0mOLS\u001b[0m\u001b[1;33m.\u001b[0m\u001b[0mfrom_formula\u001b[0m\u001b[1;33m(\u001b[0m\u001b[1;34m\"Total ~ shadow == 'Y'\"\u001b[0m\u001b[1;33m,\u001b[0m \u001b[0mdf\u001b[0m\u001b[1;33m)\u001b[0m\u001b[1;33m\u001b[0m\u001b[0m\n\u001b[0m\u001b[0;32m      2\u001b[0m \u001b[0mres\u001b[0m \u001b[1;33m=\u001b[0m \u001b[0mmod\u001b[0m\u001b[1;33m.\u001b[0m\u001b[0mfit\u001b[0m\u001b[1;33m(\u001b[0m\u001b[1;33m)\u001b[0m\u001b[1;33m\u001b[0m\u001b[0m\n\u001b[0;32m      3\u001b[0m \u001b[1;32mprint\u001b[0m \u001b[0mres\u001b[0m\u001b[1;33m.\u001b[0m\u001b[0msummary\u001b[0m\u001b[1;33m(\u001b[0m\u001b[0malpha\u001b[0m \u001b[1;33m=\u001b[0m \u001b[1;36m.1\u001b[0m\u001b[1;33m)\u001b[0m\u001b[1;33m\u001b[0m\u001b[0m\n",
        "\u001b[1;32mC:\\Anaconda\\lib\\site-packages\\statsmodels\\base\\model.pyc\u001b[0m in \u001b[0;36mfrom_formula\u001b[1;34m(cls, formula, data, subset, *args, **kwargs)\u001b[0m\n\u001b[0;32m     96\u001b[0m         \u001b[1;32mif\u001b[0m \u001b[0msubset\u001b[0m \u001b[1;32mis\u001b[0m \u001b[1;32mnot\u001b[0m \u001b[0mNone\u001b[0m\u001b[1;33m:\u001b[0m\u001b[1;33m\u001b[0m\u001b[0m\n\u001b[0;32m     97\u001b[0m             \u001b[0mdata\u001b[0m\u001b[1;33m=\u001b[0m \u001b[0mdata\u001b[0m\u001b[1;33m.\u001b[0m\u001b[0mix\u001b[0m\u001b[1;33m[\u001b[0m\u001b[0msubset\u001b[0m\u001b[1;33m]\u001b[0m\u001b[1;33m\u001b[0m\u001b[0m\n\u001b[1;32m---> 98\u001b[1;33m         \u001b[0mendog\u001b[0m\u001b[1;33m,\u001b[0m \u001b[0mexog\u001b[0m \u001b[1;33m=\u001b[0m \u001b[0mhandle_formula_data\u001b[0m\u001b[1;33m(\u001b[0m\u001b[0mdata\u001b[0m\u001b[1;33m,\u001b[0m \u001b[0mNone\u001b[0m\u001b[1;33m,\u001b[0m \u001b[0mformula\u001b[0m\u001b[1;33m)\u001b[0m\u001b[1;33m\u001b[0m\u001b[0m\n\u001b[0m\u001b[0;32m     99\u001b[0m         \u001b[0mmod\u001b[0m \u001b[1;33m=\u001b[0m \u001b[0mcls\u001b[0m\u001b[1;33m(\u001b[0m\u001b[0mendog\u001b[0m\u001b[1;33m,\u001b[0m \u001b[0mexog\u001b[0m\u001b[1;33m,\u001b[0m \u001b[1;33m*\u001b[0m\u001b[0margs\u001b[0m\u001b[1;33m,\u001b[0m \u001b[1;33m**\u001b[0m\u001b[0mkwargs\u001b[0m\u001b[1;33m)\u001b[0m\u001b[1;33m\u001b[0m\u001b[0m\n\u001b[0;32m    100\u001b[0m         \u001b[0mmod\u001b[0m\u001b[1;33m.\u001b[0m\u001b[0mformula\u001b[0m \u001b[1;33m=\u001b[0m \u001b[0mformula\u001b[0m\u001b[1;33m\u001b[0m\u001b[0m\n",
        "\u001b[1;32mC:\\Anaconda\\lib\\site-packages\\statsmodels\\formula\\formulatools.pyc\u001b[0m in \u001b[0;36mhandle_formula_data\u001b[1;34m(Y, X, formula, depth)\u001b[0m\n\u001b[0;32m     43\u001b[0m     \u001b[1;32melse\u001b[0m\u001b[1;33m:\u001b[0m\u001b[1;33m\u001b[0m\u001b[0m\n\u001b[0;32m     44\u001b[0m         \u001b[1;32mif\u001b[0m \u001b[0mdata_util\u001b[0m\u001b[1;33m.\u001b[0m\u001b[0m_is_using_pandas\u001b[0m\u001b[1;33m(\u001b[0m\u001b[0mY\u001b[0m\u001b[1;33m,\u001b[0m \u001b[0mNone\u001b[0m\u001b[1;33m)\u001b[0m\u001b[1;33m:\u001b[0m\u001b[1;33m\u001b[0m\u001b[0m\n\u001b[1;32m---> 45\u001b[1;33m             \u001b[1;32mreturn\u001b[0m \u001b[0mdmatrices\u001b[0m\u001b[1;33m(\u001b[0m\u001b[0mformula\u001b[0m\u001b[1;33m,\u001b[0m \u001b[0mY\u001b[0m\u001b[1;33m,\u001b[0m \u001b[1;36m2\u001b[0m\u001b[1;33m,\u001b[0m \u001b[0mreturn_type\u001b[0m\u001b[1;33m=\u001b[0m\u001b[1;34m'dataframe'\u001b[0m\u001b[1;33m)\u001b[0m\u001b[1;33m\u001b[0m\u001b[0m\n\u001b[0m\u001b[0;32m     46\u001b[0m         \u001b[1;32melse\u001b[0m\u001b[1;33m:\u001b[0m\u001b[1;33m\u001b[0m\u001b[0m\n\u001b[0;32m     47\u001b[0m             \u001b[1;32mreturn\u001b[0m \u001b[0mdmatrices\u001b[0m\u001b[1;33m(\u001b[0m\u001b[0mformula\u001b[0m\u001b[1;33m,\u001b[0m \u001b[0mY\u001b[0m\u001b[1;33m,\u001b[0m \u001b[1;36m2\u001b[0m\u001b[1;33m,\u001b[0m \u001b[0mreturn_type\u001b[0m\u001b[1;33m=\u001b[0m\u001b[1;34m'dataframe'\u001b[0m\u001b[1;33m)\u001b[0m\u001b[1;33m\u001b[0m\u001b[0m\n",
        "\u001b[1;32mC:\\Anaconda\\lib\\site-packages\\patsy\\highlevel.pyc\u001b[0m in \u001b[0;36mdmatrices\u001b[1;34m(formula_like, data, eval_env, NA_action, return_type)\u001b[0m\n\u001b[0;32m    295\u001b[0m     \u001b[0meval_env\u001b[0m \u001b[1;33m=\u001b[0m \u001b[0mEvalEnvironment\u001b[0m\u001b[1;33m.\u001b[0m\u001b[0mcapture\u001b[0m\u001b[1;33m(\u001b[0m\u001b[0meval_env\u001b[0m\u001b[1;33m,\u001b[0m \u001b[0mreference\u001b[0m\u001b[1;33m=\u001b[0m\u001b[1;36m1\u001b[0m\u001b[1;33m)\u001b[0m\u001b[1;33m\u001b[0m\u001b[0m\n\u001b[0;32m    296\u001b[0m     (lhs, rhs) = _do_highlevel_design(formula_like, data, eval_env,\n\u001b[1;32m--> 297\u001b[1;33m                                       NA_action, return_type)\n\u001b[0m\u001b[0;32m    298\u001b[0m     \u001b[1;32mif\u001b[0m \u001b[0mlhs\u001b[0m\u001b[1;33m.\u001b[0m\u001b[0mshape\u001b[0m\u001b[1;33m[\u001b[0m\u001b[1;36m1\u001b[0m\u001b[1;33m]\u001b[0m \u001b[1;33m==\u001b[0m \u001b[1;36m0\u001b[0m\u001b[1;33m:\u001b[0m\u001b[1;33m\u001b[0m\u001b[0m\n\u001b[0;32m    299\u001b[0m         \u001b[1;32mraise\u001b[0m \u001b[0mPatsyError\u001b[0m\u001b[1;33m(\u001b[0m\u001b[1;34m\"model is missing required outcome variables\"\u001b[0m\u001b[1;33m)\u001b[0m\u001b[1;33m\u001b[0m\u001b[0m\n",
        "\u001b[1;32mC:\\Anaconda\\lib\\site-packages\\patsy\\highlevel.pyc\u001b[0m in \u001b[0;36m_do_highlevel_design\u001b[1;34m(formula_like, data, eval_env, NA_action, return_type)\u001b[0m\n\u001b[0;32m    150\u001b[0m         \u001b[1;32mreturn\u001b[0m \u001b[0miter\u001b[0m\u001b[1;33m(\u001b[0m\u001b[1;33m[\u001b[0m\u001b[0mdata\u001b[0m\u001b[1;33m]\u001b[0m\u001b[1;33m)\u001b[0m\u001b[1;33m\u001b[0m\u001b[0m\n\u001b[0;32m    151\u001b[0m     builders = _try_incr_builders(formula_like, data_iter_maker, eval_env,\n\u001b[1;32m--> 152\u001b[1;33m                                   NA_action)\n\u001b[0m\u001b[0;32m    153\u001b[0m     \u001b[1;32mif\u001b[0m \u001b[0mbuilders\u001b[0m \u001b[1;32mis\u001b[0m \u001b[1;32mnot\u001b[0m \u001b[0mNone\u001b[0m\u001b[1;33m:\u001b[0m\u001b[1;33m\u001b[0m\u001b[0m\n\u001b[0;32m    154\u001b[0m         return build_design_matrices(builders, data,\n",
        "\u001b[1;32mC:\\Anaconda\\lib\\site-packages\\patsy\\highlevel.pyc\u001b[0m in \u001b[0;36m_try_incr_builders\u001b[1;34m(formula_like, data_iter_maker, eval_env, NA_action)\u001b[0m\n\u001b[0;32m     55\u001b[0m                                        formula_like.rhs_termlist],\n\u001b[0;32m     56\u001b[0m                                       \u001b[0mdata_iter_maker\u001b[0m\u001b[1;33m,\u001b[0m\u001b[1;33m\u001b[0m\u001b[0m\n\u001b[1;32m---> 57\u001b[1;33m                                       NA_action)\n\u001b[0m\u001b[0;32m     58\u001b[0m     \u001b[1;32melse\u001b[0m\u001b[1;33m:\u001b[0m\u001b[1;33m\u001b[0m\u001b[0m\n\u001b[0;32m     59\u001b[0m         \u001b[1;32mreturn\u001b[0m \u001b[0mNone\u001b[0m\u001b[1;33m\u001b[0m\u001b[0m\n",
        "\u001b[1;32mC:\\Anaconda\\lib\\site-packages\\patsy\\build.pyc\u001b[0m in \u001b[0;36mdesign_matrix_builders\u001b[1;34m(termlists, data_iter_maker, NA_action)\u001b[0m\n\u001b[0;32m    658\u001b[0m                                                    \u001b[0mfactor_states\u001b[0m\u001b[1;33m,\u001b[0m\u001b[1;33m\u001b[0m\u001b[0m\n\u001b[0;32m    659\u001b[0m                                                    \u001b[0mdata_iter_maker\u001b[0m\u001b[1;33m,\u001b[0m\u001b[1;33m\u001b[0m\u001b[0m\n\u001b[1;32m--> 660\u001b[1;33m                                                    NA_action)\n\u001b[0m\u001b[0;32m    661\u001b[0m     \u001b[1;31m# Now we need the factor evaluators, which encapsulate the knowledge of\u001b[0m\u001b[1;33m\u001b[0m\u001b[1;33m\u001b[0m\u001b[0m\n\u001b[0;32m    662\u001b[0m     \u001b[1;31m# how to turn any given factor into a chunk of data:\u001b[0m\u001b[1;33m\u001b[0m\u001b[1;33m\u001b[0m\u001b[0m\n",
        "\u001b[1;32mC:\\Anaconda\\lib\\site-packages\\patsy\\build.pyc\u001b[0m in \u001b[0;36m_examine_factor_types\u001b[1;34m(factors, factor_states, data_iter_maker, NA_action)\u001b[0m\n\u001b[0;32m    422\u001b[0m     \u001b[1;32mfor\u001b[0m \u001b[0mdata\u001b[0m \u001b[1;32min\u001b[0m \u001b[0mdata_iter_maker\u001b[0m\u001b[1;33m(\u001b[0m\u001b[1;33m)\u001b[0m\u001b[1;33m:\u001b[0m\u001b[1;33m\u001b[0m\u001b[0m\n\u001b[0;32m    423\u001b[0m         \u001b[1;32mfor\u001b[0m \u001b[0mfactor\u001b[0m \u001b[1;32min\u001b[0m \u001b[0mlist\u001b[0m\u001b[1;33m(\u001b[0m\u001b[0mexamine_needed\u001b[0m\u001b[1;33m)\u001b[0m\u001b[1;33m:\u001b[0m\u001b[1;33m\u001b[0m\u001b[0m\n\u001b[1;32m--> 424\u001b[1;33m             \u001b[0mvalue\u001b[0m \u001b[1;33m=\u001b[0m \u001b[0mfactor\u001b[0m\u001b[1;33m.\u001b[0m\u001b[0meval\u001b[0m\u001b[1;33m(\u001b[0m\u001b[0mfactor_states\u001b[0m\u001b[1;33m[\u001b[0m\u001b[0mfactor\u001b[0m\u001b[1;33m]\u001b[0m\u001b[1;33m,\u001b[0m \u001b[0mdata\u001b[0m\u001b[1;33m)\u001b[0m\u001b[1;33m\u001b[0m\u001b[0m\n\u001b[0m\u001b[0;32m    425\u001b[0m             \u001b[1;32mif\u001b[0m \u001b[0mfactor\u001b[0m \u001b[1;32min\u001b[0m \u001b[0mcat_sniffers\u001b[0m \u001b[1;32mor\u001b[0m \u001b[0mguess_categorical\u001b[0m\u001b[1;33m(\u001b[0m\u001b[0mvalue\u001b[0m\u001b[1;33m)\u001b[0m\u001b[1;33m:\u001b[0m\u001b[1;33m\u001b[0m\u001b[0m\n\u001b[0;32m    426\u001b[0m                 \u001b[1;32mif\u001b[0m \u001b[0mfactor\u001b[0m \u001b[1;32mnot\u001b[0m \u001b[1;32min\u001b[0m \u001b[0mcat_sniffers\u001b[0m\u001b[1;33m:\u001b[0m\u001b[1;33m\u001b[0m\u001b[0m\n",
        "\u001b[1;32mC:\\Anaconda\\lib\\site-packages\\patsy\\eval.pyc\u001b[0m in \u001b[0;36meval\u001b[1;34m(self, memorize_state, data)\u001b[0m\n\u001b[0;32m    483\u001b[0m     \u001b[1;31m#    http://nedbatchelder.com/blog/200711/rethrowing_exceptions_in_python.html\u001b[0m\u001b[1;33m\u001b[0m\u001b[1;33m\u001b[0m\u001b[0m\n\u001b[0;32m    484\u001b[0m     \u001b[1;32mdef\u001b[0m \u001b[0meval\u001b[0m\u001b[1;33m(\u001b[0m\u001b[0mself\u001b[0m\u001b[1;33m,\u001b[0m \u001b[0mmemorize_state\u001b[0m\u001b[1;33m,\u001b[0m \u001b[0mdata\u001b[0m\u001b[1;33m)\u001b[0m\u001b[1;33m:\u001b[0m\u001b[1;33m\u001b[0m\u001b[0m\n\u001b[1;32m--> 485\u001b[1;33m         \u001b[1;32mreturn\u001b[0m \u001b[0mself\u001b[0m\u001b[1;33m.\u001b[0m\u001b[0m_eval\u001b[0m\u001b[1;33m(\u001b[0m\u001b[0mmemorize_state\u001b[0m\u001b[1;33m[\u001b[0m\u001b[1;34m\"eval_code\"\u001b[0m\u001b[1;33m]\u001b[0m\u001b[1;33m,\u001b[0m \u001b[0mmemorize_state\u001b[0m\u001b[1;33m,\u001b[0m \u001b[0mdata\u001b[0m\u001b[1;33m)\u001b[0m\u001b[1;33m\u001b[0m\u001b[0m\n\u001b[0m\u001b[0;32m    486\u001b[0m \u001b[1;33m\u001b[0m\u001b[0m\n\u001b[0;32m    487\u001b[0m \u001b[1;32mdef\u001b[0m \u001b[0mtest_EvalFactor_basics\u001b[0m\u001b[1;33m(\u001b[0m\u001b[1;33m)\u001b[0m\u001b[1;33m:\u001b[0m\u001b[1;33m\u001b[0m\u001b[0m\n",
        "\u001b[1;32mC:\\Anaconda\\lib\\site-packages\\patsy\\eval.pyc\u001b[0m in \u001b[0;36m_eval\u001b[1;34m(self, code, memorize_state, data)\u001b[0m\n\u001b[0;32m    466\u001b[0m                                  \u001b[0mself\u001b[0m\u001b[1;33m,\u001b[0m\u001b[1;33m\u001b[0m\u001b[0m\n\u001b[0;32m    467\u001b[0m                                  \u001b[0mself\u001b[0m\u001b[1;33m.\u001b[0m\u001b[0m_eval_env\u001b[0m\u001b[1;33m.\u001b[0m\u001b[0meval\u001b[0m\u001b[1;33m,\u001b[0m\u001b[1;33m\u001b[0m\u001b[0m\n\u001b[1;32m--> 468\u001b[1;33m                                  code, inner_namespace=inner_namespace)\n\u001b[0m\u001b[0;32m    469\u001b[0m \u001b[1;33m\u001b[0m\u001b[0m\n\u001b[0;32m    470\u001b[0m     \u001b[1;32mdef\u001b[0m \u001b[0mmemorize_chunk\u001b[0m\u001b[1;33m(\u001b[0m\u001b[0mself\u001b[0m\u001b[1;33m,\u001b[0m \u001b[0mstate\u001b[0m\u001b[1;33m,\u001b[0m \u001b[0mwhich_pass\u001b[0m\u001b[1;33m,\u001b[0m \u001b[0mdata\u001b[0m\u001b[1;33m)\u001b[0m\u001b[1;33m:\u001b[0m\u001b[1;33m\u001b[0m\u001b[0m\n",
        "\u001b[1;32mC:\\Anaconda\\lib\\site-packages\\patsy\\compat.pyc\u001b[0m in \u001b[0;36mcall_and_wrap_exc\u001b[1;34m(msg, origin, f, *args, **kwargs)\u001b[0m\n\u001b[0;32m    115\u001b[0m \u001b[1;32mdef\u001b[0m \u001b[0mcall_and_wrap_exc\u001b[0m\u001b[1;33m(\u001b[0m\u001b[0mmsg\u001b[0m\u001b[1;33m,\u001b[0m \u001b[0morigin\u001b[0m\u001b[1;33m,\u001b[0m \u001b[0mf\u001b[0m\u001b[1;33m,\u001b[0m \u001b[1;33m*\u001b[0m\u001b[0margs\u001b[0m\u001b[1;33m,\u001b[0m \u001b[1;33m**\u001b[0m\u001b[0mkwargs\u001b[0m\u001b[1;33m)\u001b[0m\u001b[1;33m:\u001b[0m\u001b[1;33m\u001b[0m\u001b[0m\n\u001b[0;32m    116\u001b[0m     \u001b[1;32mtry\u001b[0m\u001b[1;33m:\u001b[0m\u001b[1;33m\u001b[0m\u001b[0m\n\u001b[1;32m--> 117\u001b[1;33m         \u001b[1;32mreturn\u001b[0m \u001b[0mf\u001b[0m\u001b[1;33m(\u001b[0m\u001b[1;33m*\u001b[0m\u001b[0margs\u001b[0m\u001b[1;33m,\u001b[0m \u001b[1;33m**\u001b[0m\u001b[0mkwargs\u001b[0m\u001b[1;33m)\u001b[0m\u001b[1;33m\u001b[0m\u001b[0m\n\u001b[0m\u001b[0;32m    118\u001b[0m     \u001b[1;32mexcept\u001b[0m \u001b[0mException\u001b[0m \u001b[1;32mas\u001b[0m \u001b[0me\u001b[0m\u001b[1;33m:\u001b[0m\u001b[1;33m\u001b[0m\u001b[0m\n\u001b[0;32m    119\u001b[0m         \u001b[1;32mif\u001b[0m \u001b[0msys\u001b[0m\u001b[1;33m.\u001b[0m\u001b[0mversion_info\u001b[0m\u001b[1;33m[\u001b[0m\u001b[1;36m0\u001b[0m\u001b[1;33m]\u001b[0m \u001b[1;33m>=\u001b[0m \u001b[1;36m3\u001b[0m\u001b[1;33m:\u001b[0m\u001b[1;33m\u001b[0m\u001b[0m\n",
        "\u001b[1;32mC:\\Anaconda\\lib\\site-packages\\patsy\\eval.pyc\u001b[0m in \u001b[0;36meval\u001b[1;34m(self, expr, source_name, inner_namespace)\u001b[0m\n\u001b[0;32m    125\u001b[0m         \u001b[0mcode\u001b[0m \u001b[1;33m=\u001b[0m \u001b[0mcompile\u001b[0m\u001b[1;33m(\u001b[0m\u001b[0mexpr\u001b[0m\u001b[1;33m,\u001b[0m \u001b[0msource_name\u001b[0m\u001b[1;33m,\u001b[0m \u001b[1;34m\"eval\"\u001b[0m\u001b[1;33m,\u001b[0m \u001b[0mself\u001b[0m\u001b[1;33m.\u001b[0m\u001b[0mflags\u001b[0m\u001b[1;33m,\u001b[0m \u001b[0mFalse\u001b[0m\u001b[1;33m)\u001b[0m\u001b[1;33m\u001b[0m\u001b[0m\n\u001b[0;32m    126\u001b[0m         return eval(code, {}, VarLookupDict([inner_namespace]\n\u001b[1;32m--> 127\u001b[1;33m                                             + self._namespaces))\n\u001b[0m\u001b[0;32m    128\u001b[0m \u001b[1;33m\u001b[0m\u001b[0m\n\u001b[0;32m    129\u001b[0m     \u001b[1;33m@\u001b[0m\u001b[0mclassmethod\u001b[0m\u001b[1;33m\u001b[0m\u001b[0m\n",
        "\u001b[1;32m<string>\u001b[0m in \u001b[0;36m<module>\u001b[1;34m()\u001b[0m\n",
        "\u001b[1;31mNameError\u001b[0m: name 'Total' is not defined"
       ]
      }
     ],
     "prompt_number": 46
=======
       "output_type": "stream",
       "stream": "stdout",
       "text": [
        "                            OLS Regression Results                            \n",
        "==============================================================================\n",
        "Dep. Variable:                  Total   R-squared:                       0.016\n",
        "Model:                            OLS   Adj. R-squared:                 -0.036\n",
        "Method:                 Least Squares   F-statistic:                    0.2996\n",
        "Date:                Tue, 10 Feb 2015   Prob (F-statistic):              0.591\n",
        "Time:                        20:14:19   Log-Likelihood:                -88.568\n",
        "No. Observations:                  21   AIC:                             181.1\n",
        "Df Residuals:                      19   BIC:                             183.2\n",
        "Df Model:                           1                                         \n",
        "Covariance Type:            nonrobust                                         \n",
        "=========================================================================================\n",
        "                            coef    std err          t      P>|t|      [90.0% Conf. Int.]\n",
        "-----------------------------------------------------------------------------------------\n",
        "Intercept                56.4160      7.721      7.307      0.000        43.066    69.766\n",
        "shadow == 'Y'[T.True]    -4.8410      8.845     -0.547      0.591       -20.135    10.453\n",
        "==============================================================================\n",
        "Omnibus:                        1.662   Durbin-Watson:                   1.830\n",
        "Prob(Omnibus):                  0.436   Jarque-Bera (JB):                1.276\n",
        "Skew:                           0.403   Prob(JB):                        0.528\n",
        "Kurtosis:                       2.102   Cond. No.                         3.88\n",
        "==============================================================================\n",
        "\n",
        "Warnings:\n",
        "[1] Standard Errors assume that the covariance matrix of the errors is correctly specified.\n"
       ]
      }
     ],
     "prompt_number": 9
>>>>>>> e502383fca115bd8e342758f65d87c0fd3806e7f
    },
    {
     "cell_type": "markdown",
     "metadata": {
      "slideshow": {
       "slide_type": "fragment"
      }
     },
     "source": [
      "I report the confidence interval [-20.135, 10.453] for the difference between the `shadow == 'Y'` and the `shadow == 'N'` means."
     ]
    },
    {
     "cell_type": "markdown",
     "metadata": {
      "slideshow": {
       "slide_type": "slide"
      }
     },
     "source": [
      "Part 3\n",
      "------\n",
      "If I repeated this sample of `shadow` and `rainfall` in Northern California (assuming they are IID each year) and I form this confidence interval as `t.test` does. Then, 90% of the intervals will cover the true underlying difference in the rainfall between years the groundhog sees his shadow or not."
     ]
    },
    {
     "cell_type": "markdown",
     "metadata": {
      "slideshow": {
       "slide_type": "slide"
      }
     },
     "source": [
      "Part 4\n",
      "------\n",
      "As the reported $p$-value is 0.591, I fail to reject the null hypothesis at the 5% level."
     ]
    },
    {
     "cell_type": "markdown",
     "metadata": {
      "slideshow": {
       "slide_type": "slide"
      }
     },
     "source": [
      "Part 5\n",
      "------\n",
      "I am assuming that the `rainfall` measurements are independent $N(\\mu_i,\\sigma^2)$ where $\\mu_i=\\mu_N$ in the `shadow == 'N'` years and $\\mu_i=\\mu_Y$ in the `shadow == 'Y'` years."
     ]
    },
    {
     "cell_type": "markdown",
     "metadata": {},
     "source": [
      "---"
     ]
    },
    {
     "cell_type": "markdown",
     "metadata": {
      "slideshow": {
       "slide_type": "slide"
      }
     },
     "source": [
      "1-2 Pairs\n",
      "========\n",
      "\n",
      "Use `enron.db` from Lab 2. It can be found in the data folder.\n",
      "\n",
      "1. Create a boxplot of the message recipient count (`MAX(rno)`), splitting the data based on the `seniority` of the sender.\n",
      "\n",
<<<<<<< HEAD
      "2. Compute the sample mean and standard deviation in the three groups.\n",
=======
      "2. Compute the sample mean and standard deviation in the two groups.\n",
>>>>>>> e502383fca115bd8e342758f65d87c0fd3806e7f
      "\n",
      "3. Create a histogram of the recipient count within each group.\n",
      "\n",
      "4. Compute a 90% confidence interval for the difference in recipient count between the two groups. What is a problem with this? How might you fix it?\n",
      "\n",
      "5. At level $\\alpha=5\\%$, test the null hypothesis that the average recipient count does not differ between the two groups. What assumptions are you making? What can you conclude?"
     ]
    },
    {
     "cell_type": "markdown",
     "metadata": {
      "slideshow": {
       "slide_type": "fragment"
      }
     },
     "source": [
      "On your own\n",
      "=========\n",
      "\n"
     ]
    },
    {
     "cell_type": "markdown",
     "metadata": {},
     "source": [
      "Start with the Twitter data on US and Canada trends from Lab 3.\n",
      "\n",
      "1. Create a histogram of `text_len` within each group. (Use `alpha = 0.5` to overlay them.)\n",
      "\n",
      "2. Compute the sample mean and standard deviation in the two groups.\n",
      "\n",
      "3. Create a `DataFrame` concatenating data from each collection adding a `country` column to distinguish US from Canada.  \n",
      "    i.e. given `ca_text_len` and `us_text_len` as `Series` containing the length of each text in the Canadian and US collections respectively:\n",
      "\n",
      "    ```python\n",
      "    text_len_df = pd.concat([pd.DataFrame({'text_len': ca_text_len, 'country': 'CA'}), \n",
      "                             pd.DataFrame({'text_len': us_text_len, 'country': 'US'})])\n",
      "    ```\n",
      "\n",
      "4. Use this `DataFrame` to create a `boxplot` of the `text_len` by `country`.\n",
      "\n",
      "5. Use `OLS` to compute a 90% confidence interval for the difference in `text_len` between the two groups. Name a problem with describing the confidence interval of tweet length in this way.\n",
      "\n",
      "5. At level $\\alpha=5\\%$, test the null hypothesis that the average text length does not differ between the two groups. What can you conclude?\n",
      "\n",
      "6. Repeat the above steps but pick your own tags and try to find a pair with a more significant difference."
     ]
    },
    {
<<<<<<< HEAD
     "cell_type": "code",
     "collapsed": false,
     "input": [
      "import sqlite3\n",
      "import pandas as pd\n",
      "conn = sqlite3.connect('enron.db')"
     ],
     "language": "python",
     "metadata": {},
     "outputs": [],
     "prompt_number": 4
    },
    {
=======
>>>>>>> e502383fca115bd8e342758f65d87c0fd3806e7f
     "cell_type": "markdown",
     "metadata": {},
     "source": [
      "---"
     ]
    },
    {
<<<<<<< HEAD
     "cell_type": "code",
     "collapsed": false,
     "input": [
      "%matplotlib inline"
     ],
     "language": "python",
     "metadata": {},
     "outputs": [],
     "prompt_number": 5
    },
    {
     "cell_type": "code",
     "collapsed": false,
     "input": [
      "from seaborn import plt"
     ],
     "language": "python",
     "metadata": {},
     "outputs": [],
     "prompt_number": 6
    },
    {
     "cell_type": "code",
     "collapsed": false,
     "input": [
      "df = pd.read_sql(\"\"\"SELECT eid, seniority, messageBase.mid, max(rno) as rno\n",
      "                     FROM EmployeeBase\n",
      "                     inner join MessageBase on EmployeeBase.eid= MessageBase.from_eid\n",
      "                     inner join RecipientBase on RecipientBase.mid = MessageBase.mid\n",
      "                     group by eid, seniority, messageBase.mid\n",
      "                    \"\"\", conn)"
     ],
     "language": "python",
     "metadata": {},
     "outputs": [],
     "prompt_number": 55
    },
    {
     "cell_type": "code",
     "collapsed": false,
     "input": [
      "df.head()"
     ],
     "language": "python",
     "metadata": {},
     "outputs": [
      {
       "html": [
        "<div style=\"max-height:1000px;max-width:1500px;overflow:auto;\">\n",
        "<table border=\"1\" class=\"dataframe\">\n",
        "  <thead>\n",
        "    <tr style=\"text-align: right;\">\n",
        "      <th></th>\n",
        "      <th>eid</th>\n",
        "      <th>seniority</th>\n",
        "      <th>mid</th>\n",
        "      <th>rno</th>\n",
        "    </tr>\n",
        "  </thead>\n",
        "  <tbody>\n",
        "    <tr>\n",
        "      <th>0</th>\n",
        "      <td> 1</td>\n",
        "      <td> Senior</td>\n",
        "      <td> 1611</td>\n",
        "      <td> 1</td>\n",
        "    </tr>\n",
        "    <tr>\n",
        "      <th>1</th>\n",
        "      <td> 1</td>\n",
        "      <td> Senior</td>\n",
        "      <td> 1615</td>\n",
        "      <td> 3</td>\n",
        "    </tr>\n",
        "    <tr>\n",
        "      <th>2</th>\n",
        "      <td> 1</td>\n",
        "      <td> Senior</td>\n",
        "      <td> 1722</td>\n",
        "      <td> 1</td>\n",
        "    </tr>\n",
        "    <tr>\n",
        "      <th>3</th>\n",
        "      <td> 1</td>\n",
        "      <td> Senior</td>\n",
        "      <td> 1723</td>\n",
        "      <td> 1</td>\n",
        "    </tr>\n",
        "    <tr>\n",
        "      <th>4</th>\n",
        "      <td> 1</td>\n",
        "      <td> Senior</td>\n",
        "      <td> 1763</td>\n",
        "      <td> 1</td>\n",
        "    </tr>\n",
        "  </tbody>\n",
        "</table>\n",
        "</div>"
       ],
       "metadata": {},
       "output_type": "pyout",
       "prompt_number": 58,
       "text": [
        "   eid seniority   mid  rno\n",
        "0    1    Senior  1611    1\n",
        "1    1    Senior  1615    3\n",
        "2    1    Senior  1722    1\n",
        "3    1    Senior  1723    1\n",
        "4    1    Senior  1763    1"
       ]
      }
     ],
     "prompt_number": 58
    },
    {
     "cell_type": "code",
     "collapsed": false,
     "input": [
      "df.boxplot(column='rno', by='seniority')"
     ],
     "language": "python",
     "metadata": {},
     "outputs": [
      {
       "metadata": {},
       "output_type": "pyout",
       "prompt_number": 57,
       "text": [
        "<matplotlib.axes._subplots.AxesSubplot at 0x1c5a8320>"
       ]
      },
      {
       "metadata": {},
       "output_type": "display_data",
       "png": "iVBORw0KGgoAAAANSUhEUgAAAXkAAAEcCAYAAAAiOsTUAAAABHNCSVQICAgIfAhkiAAAAAlwSFlz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\n/wYAAAAASUVORK5CYII=\n",
       "text": [
        "<matplotlib.figure.Figure at 0x1f0edf98>"
       ]
      }
     ],
     "prompt_number": 57
    },
    {
     "cell_type": "code",
     "collapsed": false,
     "input": [
      "mod = sm.OLS.from_formula(\"rno ~ seniority\", df)\n",
      "res = mod.fit()\n",
      "print res.summary(alpha = .1)"
     ],
     "language": "python",
     "metadata": {},
     "outputs": [
      {
       "output_type": "stream",
       "stream": "stdout",
       "text": [
        "                            OLS Regression Results                            \n",
        "==============================================================================\n",
        "Dep. Variable:                    rno   R-squared:                       0.000\n",
        "Model:                            OLS   Adj. R-squared:                  0.000\n",
        "Method:                 Least Squares   F-statistic:                     9.415\n",
        "Date:                Tue, 10 Feb 2015   Prob (F-statistic):            0.00216\n",
        "Time:                        21:33:29   Log-Likelihood:                -44327.\n",
        "No. Observations:               21635   AIC:                         8.866e+04\n",
        "Df Residuals:                   21633   BIC:                         8.867e+04\n",
        "Df Model:                           1                                         \n",
        "=======================================================================================\n",
        "                          coef    std err          t      P>|t|      [90.0% Conf. Int.]\n",
        "---------------------------------------------------------------------------------------\n",
        "Intercept               1.7288      0.020     88.298      0.000         1.697     1.761\n",
        "seniority[T.Senior]     0.0792      0.026      3.068      0.002         0.037     0.122\n",
        "==============================================================================\n",
        "Omnibus:                    30503.915   Durbin-Watson:                   1.390\n",
        "Prob(Omnibus):                  0.000   Jarque-Bera (JB):         21990988.515\n",
        "Skew:                           7.994   Prob(JB):                         0.00\n",
        "Kurtosis:                     158.368   Cond. No.                         2.83\n",
        "==============================================================================\n"
       ]
      }
     ],
     "prompt_number": 59
=======
     "cell_type": "markdown",
     "metadata": {},
     "source": [
      "### Don't forget to submit exit tickets: [http://tinyurl.com/dat-exit-ticket](http://tinyurl.com/dat-exit-ticket)"
     ]
>>>>>>> e502383fca115bd8e342758f65d87c0fd3806e7f
    },
    {
     "cell_type": "code",
     "collapsed": false,
     "input": [],
     "language": "python",
     "metadata": {},
     "outputs": []
    }
   ],
   "metadata": {}
  }
 ]
}