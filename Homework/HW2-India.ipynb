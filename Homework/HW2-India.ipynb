{
 "metadata": {
  "name": "",
  "signature": "sha256:ca7453f3ca90d06e3ee751a6ac7b5c2f808c7795fb17629679f0ee5c8ac048ef"
 },
 "nbformat": 3,
 "nbformat_minor": 0,
 "worksheets": [
  {
   "cells": [
    {
     "cell_type": "heading",
     "level": 2,
     "metadata": {},
     "source": [
      "Supervised (KNN) Analysis"
     ]
    },
    {
     "cell_type": "code",
     "collapsed": false,
     "input": [
      "%matplotlib inline\n",
      "\n",
      "import pandas as pd\n",
      "import numpy as np\n",
      "\n",
      "from seaborn import plt, color_palette\n",
      "from sklearn.preprocessing import scale\n",
      "from sklearn.cluster import KMeans"
     ],
     "language": "python",
     "metadata": {},
     "outputs": [],
     "prompt_number": 2
    },
    {
     "cell_type": "code",
     "collapsed": false,
     "input": [
      "from matplotlib.colors import ListedColormap\n",
      "from sklearn import neighbors, datasets, feature_selection\n",
      "from sklearn.cross_validation import train_test_split, cross_val_score"
     ],
     "language": "python",
     "metadata": {},
     "outputs": [],
     "prompt_number": 3
    },
    {
     "cell_type": "code",
     "collapsed": false,
     "input": [
      "# Various variables we'll need to set intially.\n",
      "n_neighbors = range(1, 51, 2)"
     ],
     "language": "python",
     "metadata": {},
     "outputs": [],
     "prompt_number": 4
    },
    {
     "cell_type": "code",
     "collapsed": false,
     "input": [
      "# Load in the data\n",
      "Wine_df= pd.read_csv(\"C:\\\\Users\\\\iswearingen\\\\Documents\\\\GitHub\\\\DAT_SF_12\\\\data\\\\wine.csv\")"
     ],
     "language": "python",
     "metadata": {},
     "outputs": [],
     "prompt_number": 5
    },
    {
     "cell_type": "code",
     "collapsed": false,
     "input": [
      "Wine_df.describe()"
     ],
     "language": "python",
     "metadata": {},
     "outputs": [
      {
       "html": [
        "<div style=\"max-height:1000px;max-width:1500px;overflow:auto;\">\n",
        "<table border=\"1\" class=\"dataframe\">\n",
        "  <thead>\n",
        "    <tr style=\"text-align: right;\">\n",
        "      <th></th>\n",
        "      <th>Wine</th>\n",
        "      <th>Alcohol</th>\n",
        "      <th>Malic.acid</th>\n",
        "      <th>Ash</th>\n",
        "      <th>Acl</th>\n",
        "      <th>Mg</th>\n",
        "      <th>Phenols</th>\n",
        "      <th>Flavanoids</th>\n",
        "      <th>Nonflavanoid.phenols</th>\n",
        "      <th>Proanth</th>\n",
        "      <th>Color.int</th>\n",
        "      <th>Hue</th>\n",
        "      <th>OD</th>\n",
        "      <th>Proline</th>\n",
        "    </tr>\n",
        "  </thead>\n",
        "  <tbody>\n",
        "    <tr>\n",
        "      <th>count</th>\n",
        "      <td> 178.000000</td>\n",
        "      <td> 178.000000</td>\n",
        "      <td> 178.000000</td>\n",
        "      <td> 178.000000</td>\n",
        "      <td> 178.000000</td>\n",
        "      <td> 178.000000</td>\n",
        "      <td> 178.000000</td>\n",
        "      <td> 178.000000</td>\n",
        "      <td> 178.000000</td>\n",
        "      <td> 178.000000</td>\n",
        "      <td> 178.000000</td>\n",
        "      <td> 178.000000</td>\n",
        "      <td> 178.000000</td>\n",
        "      <td>  178.000000</td>\n",
        "    </tr>\n",
        "    <tr>\n",
        "      <th>mean</th>\n",
        "      <td>   1.938202</td>\n",
        "      <td>  13.000618</td>\n",
        "      <td>   2.336348</td>\n",
        "      <td>   2.366517</td>\n",
        "      <td>  19.494944</td>\n",
        "      <td>  99.741573</td>\n",
        "      <td>   2.295112</td>\n",
        "      <td>   2.029270</td>\n",
        "      <td>   0.361854</td>\n",
        "      <td>   1.590899</td>\n",
        "      <td>   5.058090</td>\n",
        "      <td>   0.957449</td>\n",
        "      <td>   2.611685</td>\n",
        "      <td>  746.893258</td>\n",
        "    </tr>\n",
        "    <tr>\n",
        "      <th>std</th>\n",
        "      <td>   0.775035</td>\n",
        "      <td>   0.811827</td>\n",
        "      <td>   1.117146</td>\n",
        "      <td>   0.274344</td>\n",
        "      <td>   3.339564</td>\n",
        "      <td>  14.282484</td>\n",
        "      <td>   0.625851</td>\n",
        "      <td>   0.998859</td>\n",
        "      <td>   0.124453</td>\n",
        "      <td>   0.572359</td>\n",
        "      <td>   2.318286</td>\n",
        "      <td>   0.228572</td>\n",
        "      <td>   0.709990</td>\n",
        "      <td>  314.907474</td>\n",
        "    </tr>\n",
        "    <tr>\n",
        "      <th>min</th>\n",
        "      <td>   1.000000</td>\n",
        "      <td>  11.030000</td>\n",
        "      <td>   0.740000</td>\n",
        "      <td>   1.360000</td>\n",
        "      <td>  10.600000</td>\n",
        "      <td>  70.000000</td>\n",
        "      <td>   0.980000</td>\n",
        "      <td>   0.340000</td>\n",
        "      <td>   0.130000</td>\n",
        "      <td>   0.410000</td>\n",
        "      <td>   1.280000</td>\n",
        "      <td>   0.480000</td>\n",
        "      <td>   1.270000</td>\n",
        "      <td>  278.000000</td>\n",
        "    </tr>\n",
        "    <tr>\n",
        "      <th>25%</th>\n",
        "      <td>   1.000000</td>\n",
        "      <td>  12.362500</td>\n",
        "      <td>   1.602500</td>\n",
        "      <td>   2.210000</td>\n",
        "      <td>  17.200000</td>\n",
        "      <td>  88.000000</td>\n",
        "      <td>   1.742500</td>\n",
        "      <td>   1.205000</td>\n",
        "      <td>   0.270000</td>\n",
        "      <td>   1.250000</td>\n",
        "      <td>   3.220000</td>\n",
        "      <td>   0.782500</td>\n",
        "      <td>   1.937500</td>\n",
        "      <td>  500.500000</td>\n",
        "    </tr>\n",
        "    <tr>\n",
        "      <th>50%</th>\n",
        "      <td>   2.000000</td>\n",
        "      <td>  13.050000</td>\n",
        "      <td>   1.865000</td>\n",
        "      <td>   2.360000</td>\n",
        "      <td>  19.500000</td>\n",
        "      <td>  98.000000</td>\n",
        "      <td>   2.355000</td>\n",
        "      <td>   2.135000</td>\n",
        "      <td>   0.340000</td>\n",
        "      <td>   1.555000</td>\n",
        "      <td>   4.690000</td>\n",
        "      <td>   0.965000</td>\n",
        "      <td>   2.780000</td>\n",
        "      <td>  673.500000</td>\n",
        "    </tr>\n",
        "    <tr>\n",
        "      <th>75%</th>\n",
        "      <td>   3.000000</td>\n",
        "      <td>  13.677500</td>\n",
        "      <td>   3.082500</td>\n",
        "      <td>   2.557500</td>\n",
        "      <td>  21.500000</td>\n",
        "      <td> 107.000000</td>\n",
        "      <td>   2.800000</td>\n",
        "      <td>   2.875000</td>\n",
        "      <td>   0.437500</td>\n",
        "      <td>   1.950000</td>\n",
        "      <td>   6.200000</td>\n",
        "      <td>   1.120000</td>\n",
        "      <td>   3.170000</td>\n",
        "      <td>  985.000000</td>\n",
        "    </tr>\n",
        "    <tr>\n",
        "      <th>max</th>\n",
        "      <td>   3.000000</td>\n",
        "      <td>  14.830000</td>\n",
        "      <td>   5.800000</td>\n",
        "      <td>   3.230000</td>\n",
        "      <td>  30.000000</td>\n",
        "      <td> 162.000000</td>\n",
        "      <td>   3.880000</td>\n",
        "      <td>   5.080000</td>\n",
        "      <td>   0.660000</td>\n",
        "      <td>   3.580000</td>\n",
        "      <td>  13.000000</td>\n",
        "      <td>   1.710000</td>\n",
        "      <td>   4.000000</td>\n",
        "      <td> 1680.000000</td>\n",
        "    </tr>\n",
        "  </tbody>\n",
        "</table>\n",
        "</div>"
       ],
       "metadata": {},
       "output_type": "pyout",
       "prompt_number": 6,
       "text": [
        "             Wine     Alcohol  Malic.acid         Ash         Acl          Mg  \\\n",
        "count  178.000000  178.000000  178.000000  178.000000  178.000000  178.000000   \n",
        "mean     1.938202   13.000618    2.336348    2.366517   19.494944   99.741573   \n",
        "std      0.775035    0.811827    1.117146    0.274344    3.339564   14.282484   \n",
        "min      1.000000   11.030000    0.740000    1.360000   10.600000   70.000000   \n",
        "25%      1.000000   12.362500    1.602500    2.210000   17.200000   88.000000   \n",
        "50%      2.000000   13.050000    1.865000    2.360000   19.500000   98.000000   \n",
        "75%      3.000000   13.677500    3.082500    2.557500   21.500000  107.000000   \n",
        "max      3.000000   14.830000    5.800000    3.230000   30.000000  162.000000   \n",
        "\n",
        "          Phenols  Flavanoids  Nonflavanoid.phenols     Proanth   Color.int  \\\n",
        "count  178.000000  178.000000            178.000000  178.000000  178.000000   \n",
        "mean     2.295112    2.029270              0.361854    1.590899    5.058090   \n",
        "std      0.625851    0.998859              0.124453    0.572359    2.318286   \n",
        "min      0.980000    0.340000              0.130000    0.410000    1.280000   \n",
        "25%      1.742500    1.205000              0.270000    1.250000    3.220000   \n",
        "50%      2.355000    2.135000              0.340000    1.555000    4.690000   \n",
        "75%      2.800000    2.875000              0.437500    1.950000    6.200000   \n",
        "max      3.880000    5.080000              0.660000    3.580000   13.000000   \n",
        "\n",
        "              Hue          OD      Proline  \n",
        "count  178.000000  178.000000   178.000000  \n",
        "mean     0.957449    2.611685   746.893258  \n",
        "std      0.228572    0.709990   314.907474  \n",
        "min      0.480000    1.270000   278.000000  \n",
        "25%      0.782500    1.937500   500.500000  \n",
        "50%      0.965000    2.780000   673.500000  \n",
        "75%      1.120000    3.170000   985.000000  \n",
        "max      1.710000    4.000000  1680.000000  "
       ]
      }
     ],
     "prompt_number": 6
    },
    {
     "cell_type": "code",
     "collapsed": false,
     "input": [
      "Wine_df.head()"
     ],
     "language": "python",
     "metadata": {},
     "outputs": [
      {
       "html": [
        "<div style=\"max-height:1000px;max-width:1500px;overflow:auto;\">\n",
        "<table border=\"1\" class=\"dataframe\">\n",
        "  <thead>\n",
        "    <tr style=\"text-align: right;\">\n",
        "      <th></th>\n",
        "      <th>Wine</th>\n",
        "      <th>Alcohol</th>\n",
        "      <th>Malic.acid</th>\n",
        "      <th>Ash</th>\n",
        "      <th>Acl</th>\n",
        "      <th>Mg</th>\n",
        "      <th>Phenols</th>\n",
        "      <th>Flavanoids</th>\n",
        "      <th>Nonflavanoid.phenols</th>\n",
        "      <th>Proanth</th>\n",
        "      <th>Color.int</th>\n",
        "      <th>Hue</th>\n",
        "      <th>OD</th>\n",
        "      <th>Proline</th>\n",
        "    </tr>\n",
        "  </thead>\n",
        "  <tbody>\n",
        "    <tr>\n",
        "      <th>0</th>\n",
        "      <td> 1</td>\n",
        "      <td> 14.23</td>\n",
        "      <td> 1.71</td>\n",
        "      <td> 2.43</td>\n",
        "      <td> 15.6</td>\n",
        "      <td> 127</td>\n",
        "      <td> 2.80</td>\n",
        "      <td> 3.06</td>\n",
        "      <td> 0.28</td>\n",
        "      <td> 2.29</td>\n",
        "      <td> 5.64</td>\n",
        "      <td> 1.04</td>\n",
        "      <td> 3.92</td>\n",
        "      <td> 1065</td>\n",
        "    </tr>\n",
        "    <tr>\n",
        "      <th>1</th>\n",
        "      <td> 1</td>\n",
        "      <td> 13.20</td>\n",
        "      <td> 1.78</td>\n",
        "      <td> 2.14</td>\n",
        "      <td> 11.2</td>\n",
        "      <td> 100</td>\n",
        "      <td> 2.65</td>\n",
        "      <td> 2.76</td>\n",
        "      <td> 0.26</td>\n",
        "      <td> 1.28</td>\n",
        "      <td> 4.38</td>\n",
        "      <td> 1.05</td>\n",
        "      <td> 3.40</td>\n",
        "      <td> 1050</td>\n",
        "    </tr>\n",
        "    <tr>\n",
        "      <th>2</th>\n",
        "      <td> 1</td>\n",
        "      <td> 13.16</td>\n",
        "      <td> 2.36</td>\n",
        "      <td> 2.67</td>\n",
        "      <td> 18.6</td>\n",
        "      <td> 101</td>\n",
        "      <td> 2.80</td>\n",
        "      <td> 3.24</td>\n",
        "      <td> 0.30</td>\n",
        "      <td> 2.81</td>\n",
        "      <td> 5.68</td>\n",
        "      <td> 1.03</td>\n",
        "      <td> 3.17</td>\n",
        "      <td> 1185</td>\n",
        "    </tr>\n",
        "    <tr>\n",
        "      <th>3</th>\n",
        "      <td> 1</td>\n",
        "      <td> 14.37</td>\n",
        "      <td> 1.95</td>\n",
        "      <td> 2.50</td>\n",
        "      <td> 16.8</td>\n",
        "      <td> 113</td>\n",
        "      <td> 3.85</td>\n",
        "      <td> 3.49</td>\n",
        "      <td> 0.24</td>\n",
        "      <td> 2.18</td>\n",
        "      <td> 7.80</td>\n",
        "      <td> 0.86</td>\n",
        "      <td> 3.45</td>\n",
        "      <td> 1480</td>\n",
        "    </tr>\n",
        "    <tr>\n",
        "      <th>4</th>\n",
        "      <td> 1</td>\n",
        "      <td> 13.24</td>\n",
        "      <td> 2.59</td>\n",
        "      <td> 2.87</td>\n",
        "      <td> 21.0</td>\n",
        "      <td> 118</td>\n",
        "      <td> 2.80</td>\n",
        "      <td> 2.69</td>\n",
        "      <td> 0.39</td>\n",
        "      <td> 1.82</td>\n",
        "      <td> 4.32</td>\n",
        "      <td> 1.04</td>\n",
        "      <td> 2.93</td>\n",
        "      <td>  735</td>\n",
        "    </tr>\n",
        "  </tbody>\n",
        "</table>\n",
        "</div>"
       ],
       "metadata": {},
       "output_type": "pyout",
       "prompt_number": 7,
       "text": [
        "   Wine  Alcohol  Malic.acid   Ash   Acl   Mg  Phenols  Flavanoids  \\\n",
        "0     1    14.23        1.71  2.43  15.6  127     2.80        3.06   \n",
        "1     1    13.20        1.78  2.14  11.2  100     2.65        2.76   \n",
        "2     1    13.16        2.36  2.67  18.6  101     2.80        3.24   \n",
        "3     1    14.37        1.95  2.50  16.8  113     3.85        3.49   \n",
        "4     1    13.24        2.59  2.87  21.0  118     2.80        2.69   \n",
        "\n",
        "   Nonflavanoid.phenols  Proanth  Color.int   Hue    OD  Proline  \n",
        "0                  0.28     2.29       5.64  1.04  3.92     1065  \n",
        "1                  0.26     1.28       4.38  1.05  3.40     1050  \n",
        "2                  0.30     2.81       5.68  1.03  3.17     1185  \n",
        "3                  0.24     2.18       7.80  0.86  3.45     1480  \n",
        "4                  0.39     1.82       4.32  1.04  2.93      735  "
       ]
      }
     ],
     "prompt_number": 7
    },
    {
     "cell_type": "code",
     "collapsed": false,
     "input": [
      "Wine_df.tail()"
     ],
     "language": "python",
     "metadata": {},
     "outputs": [
      {
       "html": [
        "<div style=\"max-height:1000px;max-width:1500px;overflow:auto;\">\n",
        "<table border=\"1\" class=\"dataframe\">\n",
        "  <thead>\n",
        "    <tr style=\"text-align: right;\">\n",
        "      <th></th>\n",
        "      <th>Wine</th>\n",
        "      <th>Alcohol</th>\n",
        "      <th>Malic.acid</th>\n",
        "      <th>Ash</th>\n",
        "      <th>Acl</th>\n",
        "      <th>Mg</th>\n",
        "      <th>Phenols</th>\n",
        "      <th>Flavanoids</th>\n",
        "      <th>Nonflavanoid.phenols</th>\n",
        "      <th>Proanth</th>\n",
        "      <th>Color.int</th>\n",
        "      <th>Hue</th>\n",
        "      <th>OD</th>\n",
        "      <th>Proline</th>\n",
        "    </tr>\n",
        "  </thead>\n",
        "  <tbody>\n",
        "    <tr>\n",
        "      <th>173</th>\n",
        "      <td> 3</td>\n",
        "      <td> 13.71</td>\n",
        "      <td> 5.65</td>\n",
        "      <td> 2.45</td>\n",
        "      <td> 20.5</td>\n",
        "      <td>  95</td>\n",
        "      <td> 1.68</td>\n",
        "      <td> 0.61</td>\n",
        "      <td> 0.52</td>\n",
        "      <td> 1.06</td>\n",
        "      <td>  7.7</td>\n",
        "      <td> 0.64</td>\n",
        "      <td> 1.74</td>\n",
        "      <td> 740</td>\n",
        "    </tr>\n",
        "    <tr>\n",
        "      <th>174</th>\n",
        "      <td> 3</td>\n",
        "      <td> 13.40</td>\n",
        "      <td> 3.91</td>\n",
        "      <td> 2.48</td>\n",
        "      <td> 23.0</td>\n",
        "      <td> 102</td>\n",
        "      <td> 1.80</td>\n",
        "      <td> 0.75</td>\n",
        "      <td> 0.43</td>\n",
        "      <td> 1.41</td>\n",
        "      <td>  7.3</td>\n",
        "      <td> 0.70</td>\n",
        "      <td> 1.56</td>\n",
        "      <td> 750</td>\n",
        "    </tr>\n",
        "    <tr>\n",
        "      <th>175</th>\n",
        "      <td> 3</td>\n",
        "      <td> 13.27</td>\n",
        "      <td> 4.28</td>\n",
        "      <td> 2.26</td>\n",
        "      <td> 20.0</td>\n",
        "      <td> 120</td>\n",
        "      <td> 1.59</td>\n",
        "      <td> 0.69</td>\n",
        "      <td> 0.43</td>\n",
        "      <td> 1.35</td>\n",
        "      <td> 10.2</td>\n",
        "      <td> 0.59</td>\n",
        "      <td> 1.56</td>\n",
        "      <td> 835</td>\n",
        "    </tr>\n",
        "    <tr>\n",
        "      <th>176</th>\n",
        "      <td> 3</td>\n",
        "      <td> 13.17</td>\n",
        "      <td> 2.59</td>\n",
        "      <td> 2.37</td>\n",
        "      <td> 20.0</td>\n",
        "      <td> 120</td>\n",
        "      <td> 1.65</td>\n",
        "      <td> 0.68</td>\n",
        "      <td> 0.53</td>\n",
        "      <td> 1.46</td>\n",
        "      <td>  9.3</td>\n",
        "      <td> 0.60</td>\n",
        "      <td> 1.62</td>\n",
        "      <td> 840</td>\n",
        "    </tr>\n",
        "    <tr>\n",
        "      <th>177</th>\n",
        "      <td> 3</td>\n",
        "      <td> 14.13</td>\n",
        "      <td> 4.10</td>\n",
        "      <td> 2.74</td>\n",
        "      <td> 24.5</td>\n",
        "      <td>  96</td>\n",
        "      <td> 2.05</td>\n",
        "      <td> 0.76</td>\n",
        "      <td> 0.56</td>\n",
        "      <td> 1.35</td>\n",
        "      <td>  9.2</td>\n",
        "      <td> 0.61</td>\n",
        "      <td> 1.60</td>\n",
        "      <td> 560</td>\n",
        "    </tr>\n",
        "  </tbody>\n",
        "</table>\n",
        "</div>"
       ],
       "metadata": {},
       "output_type": "pyout",
       "prompt_number": 8,
       "text": [
        "     Wine  Alcohol  Malic.acid   Ash   Acl   Mg  Phenols  Flavanoids  \\\n",
        "173     3    13.71        5.65  2.45  20.5   95     1.68        0.61   \n",
        "174     3    13.40        3.91  2.48  23.0  102     1.80        0.75   \n",
        "175     3    13.27        4.28  2.26  20.0  120     1.59        0.69   \n",
        "176     3    13.17        2.59  2.37  20.0  120     1.65        0.68   \n",
        "177     3    14.13        4.10  2.74  24.5   96     2.05        0.76   \n",
        "\n",
        "     Nonflavanoid.phenols  Proanth  Color.int   Hue    OD  Proline  \n",
        "173                  0.52     1.06        7.7  0.64  1.74      740  \n",
        "174                  0.43     1.41        7.3  0.70  1.56      750  \n",
        "175                  0.43     1.35       10.2  0.59  1.56      835  \n",
        "176                  0.53     1.46        9.3  0.60  1.62      840  \n",
        "177                  0.56     1.35        9.2  0.61  1.60      560  "
       ]
      }
     ],
     "prompt_number": 8
    },
    {
     "cell_type": "code",
     "collapsed": false,
     "input": [
      "target_df = Wine_df['Wine']"
     ],
     "language": "python",
     "metadata": {},
     "outputs": [],
     "prompt_number": 9
    },
    {
     "cell_type": "code",
     "collapsed": false,
     "input": [
      "input_df = Wine_df.drop('Wine', axis=1)"
     ],
     "language": "python",
     "metadata": {},
     "outputs": [],
     "prompt_number": 10
    },
    {
     "cell_type": "code",
     "collapsed": false,
     "input": [
      "input_df.head()"
     ],
     "language": "python",
     "metadata": {},
     "outputs": [
      {
       "html": [
        "<div style=\"max-height:1000px;max-width:1500px;overflow:auto;\">\n",
        "<table border=\"1\" class=\"dataframe\">\n",
        "  <thead>\n",
        "    <tr style=\"text-align: right;\">\n",
        "      <th></th>\n",
        "      <th>Alcohol</th>\n",
        "      <th>Malic.acid</th>\n",
        "      <th>Ash</th>\n",
        "      <th>Acl</th>\n",
        "      <th>Mg</th>\n",
        "      <th>Phenols</th>\n",
        "      <th>Flavanoids</th>\n",
        "      <th>Nonflavanoid.phenols</th>\n",
        "      <th>Proanth</th>\n",
        "      <th>Color.int</th>\n",
        "      <th>Hue</th>\n",
        "      <th>OD</th>\n",
        "      <th>Proline</th>\n",
        "    </tr>\n",
        "  </thead>\n",
        "  <tbody>\n",
        "    <tr>\n",
        "      <th>0</th>\n",
        "      <td> 14.23</td>\n",
        "      <td> 1.71</td>\n",
        "      <td> 2.43</td>\n",
        "      <td> 15.6</td>\n",
        "      <td> 127</td>\n",
        "      <td> 2.80</td>\n",
        "      <td> 3.06</td>\n",
        "      <td> 0.28</td>\n",
        "      <td> 2.29</td>\n",
        "      <td> 5.64</td>\n",
        "      <td> 1.04</td>\n",
        "      <td> 3.92</td>\n",
        "      <td> 1065</td>\n",
        "    </tr>\n",
        "    <tr>\n",
        "      <th>1</th>\n",
        "      <td> 13.20</td>\n",
        "      <td> 1.78</td>\n",
        "      <td> 2.14</td>\n",
        "      <td> 11.2</td>\n",
        "      <td> 100</td>\n",
        "      <td> 2.65</td>\n",
        "      <td> 2.76</td>\n",
        "      <td> 0.26</td>\n",
        "      <td> 1.28</td>\n",
        "      <td> 4.38</td>\n",
        "      <td> 1.05</td>\n",
        "      <td> 3.40</td>\n",
        "      <td> 1050</td>\n",
        "    </tr>\n",
        "    <tr>\n",
        "      <th>2</th>\n",
        "      <td> 13.16</td>\n",
        "      <td> 2.36</td>\n",
        "      <td> 2.67</td>\n",
        "      <td> 18.6</td>\n",
        "      <td> 101</td>\n",
        "      <td> 2.80</td>\n",
        "      <td> 3.24</td>\n",
        "      <td> 0.30</td>\n",
        "      <td> 2.81</td>\n",
        "      <td> 5.68</td>\n",
        "      <td> 1.03</td>\n",
        "      <td> 3.17</td>\n",
        "      <td> 1185</td>\n",
        "    </tr>\n",
        "    <tr>\n",
        "      <th>3</th>\n",
        "      <td> 14.37</td>\n",
        "      <td> 1.95</td>\n",
        "      <td> 2.50</td>\n",
        "      <td> 16.8</td>\n",
        "      <td> 113</td>\n",
        "      <td> 3.85</td>\n",
        "      <td> 3.49</td>\n",
        "      <td> 0.24</td>\n",
        "      <td> 2.18</td>\n",
        "      <td> 7.80</td>\n",
        "      <td> 0.86</td>\n",
        "      <td> 3.45</td>\n",
        "      <td> 1480</td>\n",
        "    </tr>\n",
        "    <tr>\n",
        "      <th>4</th>\n",
        "      <td> 13.24</td>\n",
        "      <td> 2.59</td>\n",
        "      <td> 2.87</td>\n",
        "      <td> 21.0</td>\n",
        "      <td> 118</td>\n",
        "      <td> 2.80</td>\n",
        "      <td> 2.69</td>\n",
        "      <td> 0.39</td>\n",
        "      <td> 1.82</td>\n",
        "      <td> 4.32</td>\n",
        "      <td> 1.04</td>\n",
        "      <td> 2.93</td>\n",
        "      <td>  735</td>\n",
        "    </tr>\n",
        "  </tbody>\n",
        "</table>\n",
        "</div>"
       ],
       "metadata": {},
       "output_type": "pyout",
       "prompt_number": 11,
       "text": [
        "   Alcohol  Malic.acid   Ash   Acl   Mg  Phenols  Flavanoids  \\\n",
        "0    14.23        1.71  2.43  15.6  127     2.80        3.06   \n",
        "1    13.20        1.78  2.14  11.2  100     2.65        2.76   \n",
        "2    13.16        2.36  2.67  18.6  101     2.80        3.24   \n",
        "3    14.37        1.95  2.50  16.8  113     3.85        3.49   \n",
        "4    13.24        2.59  2.87  21.0  118     2.80        2.69   \n",
        "\n",
        "   Nonflavanoid.phenols  Proanth  Color.int   Hue    OD  Proline  \n",
        "0                  0.28     2.29       5.64  1.04  3.92     1065  \n",
        "1                  0.26     1.28       4.38  1.05  3.40     1050  \n",
        "2                  0.30     2.81       5.68  1.03  3.17     1185  \n",
        "3                  0.24     2.18       7.80  0.86  3.45     1480  \n",
        "4                  0.39     1.82       4.32  1.04  2.93      735  "
       ]
      }
     ],
     "prompt_number": 11
    },
    {
     "cell_type": "code",
     "collapsed": false,
     "input": [
      "target_np_array=target_df.values"
     ],
     "language": "python",
     "metadata": {},
     "outputs": [],
     "prompt_number": 12
    },
    {
     "cell_type": "code",
     "collapsed": false,
     "input": [
      "target_np_array"
     ],
     "language": "python",
     "metadata": {},
     "outputs": [
      {
       "metadata": {},
       "output_type": "pyout",
       "prompt_number": 13,
       "text": [
        "array([1, 1, 1, 1, 1, 1, 1, 1, 1, 1, 1, 1, 1, 1, 1, 1, 1, 1, 1, 1, 1, 1, 1,\n",
        "       1, 1, 1, 1, 1, 1, 1, 1, 1, 1, 1, 1, 1, 1, 1, 1, 1, 1, 1, 1, 1, 1, 1,\n",
        "       1, 1, 1, 1, 1, 1, 1, 1, 1, 1, 1, 1, 1, 2, 2, 2, 2, 2, 2, 2, 2, 2, 2,\n",
        "       2, 2, 2, 2, 2, 2, 2, 2, 2, 2, 2, 2, 2, 2, 2, 2, 2, 2, 2, 2, 2, 2, 2,\n",
        "       2, 2, 2, 2, 2, 2, 2, 2, 2, 2, 2, 2, 2, 2, 2, 2, 2, 2, 2, 2, 2, 2, 2,\n",
        "       2, 2, 2, 2, 2, 2, 2, 2, 2, 2, 2, 2, 2, 2, 2, 3, 3, 3, 3, 3, 3, 3, 3,\n",
        "       3, 3, 3, 3, 3, 3, 3, 3, 3, 3, 3, 3, 3, 3, 3, 3, 3, 3, 3, 3, 3, 3, 3,\n",
        "       3, 3, 3, 3, 3, 3, 3, 3, 3, 3, 3, 3, 3, 3, 3, 3, 3], dtype=int64)"
       ]
      }
     ],
     "prompt_number": 13
    },
    {
     "cell_type": "code",
     "collapsed": false,
     "input": [
      "input_np_array=input_df.values"
     ],
     "language": "python",
     "metadata": {},
     "outputs": [],
     "prompt_number": 14
    },
    {
     "cell_type": "code",
     "collapsed": false,
     "input": [
      "input_np_array"
     ],
     "language": "python",
     "metadata": {},
     "outputs": [
      {
       "metadata": {},
       "output_type": "pyout",
       "prompt_number": 15,
       "text": [
        "array([[  1.42300000e+01,   1.71000000e+00,   2.43000000e+00, ...,\n",
        "          1.04000000e+00,   3.92000000e+00,   1.06500000e+03],\n",
        "       [  1.32000000e+01,   1.78000000e+00,   2.14000000e+00, ...,\n",
        "          1.05000000e+00,   3.40000000e+00,   1.05000000e+03],\n",
        "       [  1.31600000e+01,   2.36000000e+00,   2.67000000e+00, ...,\n",
        "          1.03000000e+00,   3.17000000e+00,   1.18500000e+03],\n",
        "       ..., \n",
        "       [  1.32700000e+01,   4.28000000e+00,   2.26000000e+00, ...,\n",
        "          5.90000000e-01,   1.56000000e+00,   8.35000000e+02],\n",
        "       [  1.31700000e+01,   2.59000000e+00,   2.37000000e+00, ...,\n",
        "          6.00000000e-01,   1.62000000e+00,   8.40000000e+02],\n",
        "       [  1.41300000e+01,   4.10000000e+00,   2.74000000e+00, ...,\n",
        "          6.10000000e-01,   1.60000000e+00,   5.60000000e+02]])"
       ]
      }
     ],
     "prompt_number": 15
    },
    {
     "cell_type": "code",
     "collapsed": false,
     "input": [
      "# Create the training (and test) set using scikit-learn's train_test_split function\n",
      "X_train, X_test, y_train, y_test = train_test_split(input_np_array, target_np_array, test_size=0.3, random_state=42)\n",
      "\n",
      "# Try this sequence again with the following random seed.\n",
      "# X_train, X_test, y_train, y_test = train_test_split(iris.data, iris.target, test_size=0.3, random_state=8)"
     ],
     "language": "python",
     "metadata": {},
     "outputs": [],
     "prompt_number": 16
    },
    {
     "cell_type": "code",
     "collapsed": false,
     "input": [
      "# Loop through each neighbors value from 1 to 51 and append\n",
      "# the scores\n",
      "scores = []\n",
      "for n in n_neighbors:\n",
      "    clf = neighbors.KNeighborsClassifier(n)\n",
      "    clf.fit(X_train, y_train)\n",
      "    scores.append(clf.score(X_test, y_test))"
     ],
     "language": "python",
     "metadata": {},
     "outputs": [],
     "prompt_number": 17
    },
    {
     "cell_type": "code",
     "collapsed": false,
     "input": [
      "plt.figure(figsize=(18,6))\n",
      "_ = plt.plot(n_neighbors, scores, linewidth=3.0)\n",
      "zip( n_neighbors, scores)"
     ],
     "language": "python",
     "metadata": {},
     "outputs": [
      {
       "metadata": {},
       "output_type": "pyout",
       "prompt_number": 18,
       "text": [
        "[(1, 0.79629629629629628),\n",
        " (3, 0.7407407407407407),\n",
        " (5, 0.7407407407407407),\n",
        " (7, 0.7592592592592593),\n",
        " (9, 0.72222222222222221),\n",
        " (11, 0.7407407407407407),\n",
        " (13, 0.7592592592592593),\n",
        " (15, 0.7592592592592593),\n",
        " (17, 0.7592592592592593),\n",
        " (19, 0.77777777777777779),\n",
        " (21, 0.77777777777777779),\n",
        " (23, 0.77777777777777779),\n",
        " (25, 0.7592592592592593),\n",
        " (27, 0.79629629629629628),\n",
        " (29, 0.79629629629629628),\n",
        " (31, 0.79629629629629628),\n",
        " (33, 0.79629629629629628),\n",
        " (35, 0.77777777777777779),\n",
        " (37, 0.79629629629629628),\n",
        " (39, 0.79629629629629628),\n",
        " (41, 0.79629629629629628),\n",
        " (43, 0.79629629629629628),\n",
        " (45, 0.79629629629629628),\n",
        " (47, 0.79629629629629628),\n",
        " (49, 0.79629629629629628)]"
       ]
      },
      {
       "metadata": {},
       "output_type": "display_data",
       "png": "[encoded data removed]",
       "text": [
        "<matplotlib.figure.Figure at 0x187936d8>"
       ]
      }
     ],
     "prompt_number": 18
    },
    {
     "cell_type": "code",
     "collapsed": false,
     "input": [
      "from sklearn.cross_validation import cross_val_score\n",
      "clf = neighbors.KNeighborsClassifier(30, weights='uniform')\n",
      "scores = cross_val_score(clf, input_np_array, target_np_array, cv=5)\n",
      "print scores"
     ],
     "language": "python",
     "metadata": {},
     "outputs": [
      {
       "output_type": "stream",
       "stream": "stdout",
       "text": [
        "[ 0.7027027   0.75        0.61111111  0.74285714  0.79411765]\n"
       ]
      }
     ],
     "prompt_number": 55
    },
    {
     "cell_type": "code",
     "collapsed": false,
     "input": [
      "np.mean(scores)"
     ],
     "language": "python",
     "metadata": {},
     "outputs": [
      {
       "metadata": {},
       "output_type": "pyout",
       "prompt_number": 19,
       "text": [
        "0.77629629629629648"
       ]
      }
     ],
     "prompt_number": 19
    },
    {
     "cell_type": "code",
     "collapsed": false,
     "input": [
      "wine_columns = input_df.columns.values"
     ],
     "language": "python",
     "metadata": {},
     "outputs": [],
     "prompt_number": 20
    },
    {
     "cell_type": "code",
     "collapsed": false,
     "input": [
      "type(wine_columns)"
     ],
     "language": "python",
     "metadata": {},
     "outputs": [
      {
       "metadata": {},
       "output_type": "pyout",
       "prompt_number": 22,
       "text": [
        "numpy.ndarray"
       ]
      }
     ],
     "prompt_number": 22
    },
    {
     "cell_type": "code",
     "collapsed": false,
     "input": [
      "# Below returns highest signifiance for features\n",
      "n = np.arange(len(wine_columns))\n",
      "\n",
      "fig = plt.figure(figsize=(18,6))\n",
      "ax = fig.add_subplot(111)\n",
      "\n",
      "ax.bar(n, feature_selection.f_classif(input_np_array, target_np_array)[0])\n",
      "\n",
      "xtickNames = ax.set_xticklabels(wine_columns)\n",
      "ax.set_xticks(n)\n",
      "_ = plt.setp(xtickNames, rotation=45, fontsize=16)"
     ],
     "language": "python",
     "metadata": {},
     "outputs": [
      {
       "metadata": {},
       "output_type": "display_data",
       "png": "[encoded data removed]",
       "text": [
        "<matplotlib.figure.Figure at 0x18a70c50>"
       ]
      }
     ],
     "prompt_number": 23
    },
    {
     "cell_type": "heading",
     "level": 2,
     "metadata": {},
     "source": [
      "K-means clustering analysis"
     ]
    },
    {
     "cell_type": "code",
     "collapsed": false,
     "input": [
      "Wine_df = pd.read_csv('C:\\\\Users\\\\iswearingen\\\\Documents\\\\GitHub\\\\DAT_SF_12\\\\data\\\\wine.csv')\n",
      "input_array = Wine_df.drop('Wine', axis=1).values\n",
      "target_array = Wine_df['Wine'].values"
     ],
     "language": "python",
     "metadata": {},
     "outputs": [],
     "prompt_number": 90
    },
    {
     "cell_type": "code",
     "collapsed": false,
     "input": [
      "kmeans = KMeans(n_clusters=3, random_state=42)\n",
      "kmeans.fit(input_array)\n",
      "wine_scale = scale(input_array)"
     ],
     "language": "python",
     "metadata": {},
     "outputs": [],
     "prompt_number": 117
    },
    {
     "cell_type": "code",
     "collapsed": false,
     "input": [
      "Wine_df.columns[:12]"
     ],
     "language": "python",
     "metadata": {},
     "outputs": [
      {
       "metadata": {},
       "output_type": "pyout",
       "prompt_number": 118,
       "text": [
        "Index([u'Wine', u'Alcohol', u'Malic.acid', u'Ash', u'Acl', u'Mg', u'Phenols', u'Flavanoids', u'Nonflavanoid.phenols', u'Proanth', u'Color.int', u'Hue'], dtype='object')"
       ]
      }
     ],
     "prompt_number": 118
    },
    {
     "cell_type": "code",
     "collapsed": false,
     "input": [
      "kmeans.labels_"
     ],
     "language": "python",
     "metadata": {},
     "outputs": [
      {
       "metadata": {},
       "output_type": "pyout",
       "prompt_number": 119,
       "text": [
        "array([1, 1, 1, 1, 2, 1, 1, 1, 1, 1, 1, 1, 1, 1, 1, 1, 1, 1, 1, 2, 2, 2, 1,\n",
        "       1, 2, 2, 1, 1, 2, 1, 1, 1, 1, 1, 1, 2, 2, 1, 1, 2, 2, 1, 1, 2, 2, 1,\n",
        "       1, 1, 1, 1, 1, 1, 1, 1, 1, 1, 1, 1, 1, 0, 2, 0, 2, 0, 0, 2, 0, 0, 2,\n",
        "       2, 2, 0, 0, 1, 2, 0, 0, 0, 2, 0, 0, 2, 2, 0, 0, 0, 0, 0, 2, 2, 0, 0,\n",
        "       0, 0, 0, 2, 2, 0, 2, 0, 2, 0, 0, 0, 2, 0, 0, 0, 0, 2, 0, 0, 2, 0, 0,\n",
        "       0, 0, 0, 0, 0, 2, 0, 0, 0, 0, 0, 0, 0, 0, 0, 2, 0, 0, 2, 2, 2, 2, 0,\n",
        "       0, 0, 2, 2, 0, 0, 2, 2, 0, 2, 2, 0, 0, 0, 0, 2, 2, 2, 0, 2, 2, 2, 0,\n",
        "       2, 0, 2, 2, 0, 2, 2, 2, 2, 0, 0, 2, 2, 2, 2, 2, 0])"
       ]
      }
     ],
     "prompt_number": 119
    },
    {
     "cell_type": "code",
     "collapsed": false,
     "input": [
      "target_array"
     ],
     "language": "python",
     "metadata": {},
     "outputs": [
      {
       "metadata": {},
       "output_type": "pyout",
       "prompt_number": 120,
       "text": [
        "array([1, 1, 1, 1, 1, 1, 1, 1, 1, 1, 1, 1, 1, 1, 1, 1, 1, 1, 1, 1, 1, 1, 1,\n",
        "       1, 1, 1, 1, 1, 1, 1, 1, 1, 1, 1, 1, 1, 1, 1, 1, 1, 1, 1, 1, 1, 1, 1,\n",
        "       1, 1, 1, 1, 1, 1, 1, 1, 1, 1, 1, 1, 1, 2, 2, 2, 2, 2, 2, 2, 2, 2, 2,\n",
        "       2, 2, 2, 2, 2, 2, 2, 2, 2, 2, 2, 2, 2, 2, 2, 2, 2, 2, 2, 2, 2, 2, 2,\n",
        "       2, 2, 2, 2, 2, 2, 2, 2, 2, 2, 2, 2, 2, 2, 2, 2, 2, 2, 2, 2, 2, 2, 2,\n",
        "       2, 2, 2, 2, 2, 2, 2, 2, 2, 2, 2, 2, 2, 2, 2, 3, 3, 3, 3, 3, 3, 3, 3,\n",
        "       3, 3, 3, 3, 3, 3, 3, 3, 3, 3, 3, 3, 3, 3, 3, 3, 3, 3, 3, 3, 3, 3, 3,\n",
        "       3, 3, 3, 3, 3, 3, 3, 3, 3, 3, 3, 3, 3, 3, 3, 3, 3], dtype=int64)"
       ]
      }
     ],
     "prompt_number": 120
    },
    {
     "cell_type": "code",
     "collapsed": false,
     "input": [
      "from sklearn.cluster import KMeans\n",
      "\n",
      "kmeans = KMeans(n_clusters=3, random_state=42)\n",
      "kmeans.fit(wine_scale)\n",
      "Y_hat_kmeans = kmeans.labels_\n",
      "\n",
      "clusters_df = pd.DataFrame({'est_cluster': Y_hat_kmeans, 'Wine': target_array, 'rows': 1})\n",
      "\n",
      "clusters_df.pivot_table(index='Wine', columns='est_cluster', aggfunc=np.sum, fill_value=0)"
     ],
     "language": "python",
     "metadata": {},
     "outputs": [
      {
       "html": [
        "<div style=\"max-height:1000px;max-width:1500px;overflow:auto;\">\n",
        "<table border=\"1\" class=\"dataframe\">\n",
        "  <thead>\n",
        "    <tr>\n",
        "      <th></th>\n",
        "      <th colspan=\"3\" halign=\"left\">rows</th>\n",
        "    </tr>\n",
        "    <tr>\n",
        "      <th>est_cluster</th>\n",
        "      <th>0</th>\n",
        "      <th>1</th>\n",
        "      <th>2</th>\n",
        "    </tr>\n",
        "    <tr>\n",
        "      <th>Wine</th>\n",
        "      <th></th>\n",
        "      <th></th>\n",
        "      <th></th>\n",
        "    </tr>\n",
        "  </thead>\n",
        "  <tbody>\n",
        "    <tr>\n",
        "      <th>1</th>\n",
        "      <td>  0</td>\n",
        "      <td> 59</td>\n",
        "      <td>  0</td>\n",
        "    </tr>\n",
        "    <tr>\n",
        "      <th>2</th>\n",
        "      <td>  3</td>\n",
        "      <td>  3</td>\n",
        "      <td> 65</td>\n",
        "    </tr>\n",
        "    <tr>\n",
        "      <th>3</th>\n",
        "      <td> 48</td>\n",
        "      <td>  0</td>\n",
        "      <td>  0</td>\n",
        "    </tr>\n",
        "  </tbody>\n",
        "</table>\n",
        "</div>"
       ],
       "metadata": {},
       "output_type": "pyout",
       "prompt_number": 121,
       "text": [
        "             rows        \n",
        "est_cluster     0   1   2\n",
        "Wine                     \n",
        "1               0  59   0\n",
        "2               3   3  65\n",
        "3              48   0   0"
       ]
      }
     ],
     "prompt_number": 121
    },
    {
     "cell_type": "heading",
     "level": 2,
     "metadata": {},
     "source": [
      "Hierarchical clustering analysis"
     ]
    },
    {
     "cell_type": "code",
     "collapsed": false,
     "input": [
      "from scipy.cluster.hierarchy import linkage, dendrogram\n",
      "from scipy.spatial.distance import pdist, squareform"
     ],
     "language": "python",
     "metadata": {},
     "outputs": [],
     "prompt_number": 109
    },
    {
     "cell_type": "code",
     "collapsed": false,
     "input": [
      "wine_scale = scale(input_array)"
     ],
     "language": "python",
     "metadata": {},
     "outputs": [],
     "prompt_number": 122
    },
    {
     "cell_type": "code",
     "collapsed": false,
     "input": [
      "distx = squareform(pdist(wine_scale, metric='euclidean'))"
     ],
     "language": "python",
     "metadata": {},
     "outputs": [],
     "prompt_number": 123
    },
    {
     "cell_type": "code",
     "collapsed": false,
     "input": [
      "# perform clustering and plot the dendrogram\n",
      "\n",
      "R = dendrogram(linkage(distx, method='single'), color_threshold=10)\n",
      "\n",
      "plt.xlabel('points')\n",
      "plt.ylabel('Height')\n",
      "plt.suptitle('Cluster Dendrogram', fontweight='bold', fontsize=14);"
     ],
     "language": "python",
     "metadata": {},
     "outputs": [
      {
       "metadata": {},
       "output_type": "display_data",
       "png": "[encoded data removed]",
       "text": [
        "<matplotlib.figure.Figure at 0x1a419dd8>"
       ]
      }
     ],
     "prompt_number": 124
    },
    {
     "cell_type": "code",
     "collapsed": false,
     "input": [
      "# perform clustering and plot the dendrogram\n",
      "\n",
      "R = dendrogram(linkage(distx, method='ward'), color_threshold=10)\n",
      "\n",
      "plt.xlabel('points')\n",
      "plt.ylabel('Height')\n",
      "plt.suptitle('Cluster Dendrogram', fontweight='bold', fontsize=14);"
     ],
     "language": "python",
     "metadata": {},
     "outputs": [
      {
       "metadata": {},
       "output_type": "display_data",
       "png": "[encoded data removed]",
       "text": [
        "<matplotlib.figure.Figure at 0x1a438588>"
       ]
      }
     ],
     "prompt_number": 114
    },
    {
     "cell_type": "code",
     "collapsed": false,
     "input": [],
     "language": "python",
     "metadata": {},
     "outputs": []
    }
   ],
   "metadata": {}
  }
 ]
}